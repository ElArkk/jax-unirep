{
 "cells": [
  {
   "cell_type": "code",
   "execution_count": 1,
   "metadata": {},
   "outputs": [],
   "source": [
    "import numpy as np\n",
    "import pandas as pd\n",
    "import janitor\n",
    "\n",
    "from functools import partial"
   ]
  },
  {
   "cell_type": "code",
   "execution_count": 2,
   "metadata": {},
   "outputs": [],
   "source": [
    "wt =\"MSKGEELFTGVVPILVELDGDVNGHKFSVSGEGEGDATYGKLTLKFICTTGKLPVPWPTLVTTLSYGVQCFSRYPDHMKQHDFFKSAMPEGYVQERTIFFKDDGNYKTRAEVKFEGDTLVNRIELKGIDFKEDGNILGHKLEYNYNSHNVYIMADKQKNGIKVNFKIRHNIEDGSVQLADHYQQNTPIGDGPVLLPDNHYLSTQSALSKDPNEKRDHMVLLEFVTAAGITHGMDELYK\""
   ]
  },
  {
   "cell_type": "code",
   "execution_count": 3,
   "metadata": {},
   "outputs": [],
   "source": [
    "def aa_pos(mut):\n",
    "    \"\"\"\n",
    "    Return mutation position from mutation string.\n",
    "\n",
    "    Example: A111C -> 111\n",
    "    \"\"\"\n",
    "    if not mut:\n",
    "        return mut\n",
    "    else:\n",
    "        return int(mut[2:-1])\n",
    "\n",
    "\n",
    "def aa_letter(mut):\n",
    "    \"\"\"\n",
    "    Return mutation letter from mutation string.\n",
    "\n",
    "    Example: A111C -> C\n",
    "    \"\"\"\n",
    "    if not mut:\n",
    "        return mut\n",
    "    else:\n",
    "        return mut[-1]\n",
    "\n",
    "\n",
    "def mut2seq(mutation_string, wt_sequence, delimiter=\":\"):\n",
    "    \"\"\"\n",
    "    Reconstruct full mutant sequence given mutation string.\n",
    "\n",
    "    Example mutation_strings:\n",
    "    - A111C\n",
    "    - A111T; V130A\n",
    "    - A111T; Q194R; N249I; N251Y; H255Y\n",
    "    \"\"\"\n",
    "    if mutation_string is None or mutation_string == \"\":\n",
    "        return wt_sequence\n",
    "\n",
    "    mutations = mutation_string.split(delimiter)\n",
    "    mutant_sequence = list(wt_sequence)  # mutant_sequence is a list\n",
    "    for mut in mutations:\n",
    "        position = aa_pos(mut)\n",
    "        letter = aa_letter(mut)\n",
    "        if position == 0:\n",
    "            raise ValueError(\n",
    "                f\"\"\"\n",
    "            The mutation string {mut} is invalid.\n",
    "            It has \"0\" as its position.\n",
    "            \"\"\"\n",
    "            )\n",
    "        if position > len(wt_sequence):\n",
    "            raise ValueError(\n",
    "                f\"\"\"\n",
    "            The mutation string {mut} is invalid.\n",
    "            Its position is greater than the length of the WT sequence.\n",
    "            \"\"\"\n",
    "            )\n",
    "        mutant_sequence[\n",
    "            position - 1\n",
    "        ] = letter  # -1 is necessary because the list is zero-indexed\n",
    "    return \"\".join(l for l in mutant_sequence)"
   ]
  },
  {
   "cell_type": "code",
   "execution_count": 4,
   "metadata": {},
   "outputs": [],
   "source": [
    "def count_mutations(x):\n",
    "    if x == '':\n",
    "        return 0\n",
    "    else:\n",
    "        return len(x.split(\":\"))\n"
   ]
  },
  {
   "cell_type": "code",
   "execution_count": 5,
   "metadata": {},
   "outputs": [],
   "source": [
    "mut2gfp = partial(mut2seq, wt_sequence=wt)"
   ]
  },
  {
   "cell_type": "markdown",
   "metadata": {},
   "source": [
    "## Prepare data"
   ]
  },
  {
   "cell_type": "code",
   "execution_count": 6,
   "metadata": {},
   "outputs": [
    {
     "name": "stderr",
     "output_type": "stream",
     "text": [
      "/home/kummear1/anaconda/envs/genesis/lib/python3.7/site-packages/janitor/functions.py:2246: SettingWithCopyWarning: \n",
      "A value is trying to be set on a copy of a slice from a DataFrame.\n",
      "Try using .loc[row_indexer,col_indexer] = value instead\n",
      "\n",
      "See the caveats in the documentation: http://pandas.pydata.org/pandas-docs/stable/user_guide/indexing.html#returning-a-view-versus-a-copy\n",
      "  df[dest_column_name] = df[column_name].apply(function)\n"
     ]
    }
   ],
   "source": [
    "data = (pd.read_csv(\"data/amino_acid_genotypes_to_brightness.tsv\", sep='\\t')\n",
    "        .fill_empty(\"aaMutations\", \"\")\n",
    "        .filter_string(\"aaMutations\", search_string=\"\\*\", complement=True)\n",
    "        .transform_column(\"aaMutations\", mut2gfp, \"sequence\")\n",
    "        .transform_column(\"medianBrightness\", lambda x: np.log(x), \"log_bright\")\n",
    "        .transform_column(\"sequence\", lambda x: len(x), \"length\")\n",
    "        .transform_column(\"aaMutations\", count_mutations, \"mutation_count\")\n",
    "       )"
   ]
  },
  {
   "cell_type": "code",
   "execution_count": 7,
   "metadata": {},
   "outputs": [
    {
     "data": {
      "text/html": [
       "<div>\n",
       "<style scoped>\n",
       "    .dataframe tbody tr th:only-of-type {\n",
       "        vertical-align: middle;\n",
       "    }\n",
       "\n",
       "    .dataframe tbody tr th {\n",
       "        vertical-align: top;\n",
       "    }\n",
       "\n",
       "    .dataframe thead th {\n",
       "        text-align: right;\n",
       "    }\n",
       "</style>\n",
       "<table border=\"1\" class=\"dataframe\">\n",
       "  <thead>\n",
       "    <tr style=\"text-align: right;\">\n",
       "      <th></th>\n",
       "      <th>aaMutations</th>\n",
       "      <th>uniqueBarcodes</th>\n",
       "      <th>medianBrightness</th>\n",
       "      <th>std</th>\n",
       "      <th>sequence</th>\n",
       "      <th>log_bright</th>\n",
       "      <th>length</th>\n",
       "      <th>mutation_count</th>\n",
       "    </tr>\n",
       "  </thead>\n",
       "  <tbody>\n",
       "    <tr>\n",
       "      <th>0</th>\n",
       "      <td></td>\n",
       "      <td>3645</td>\n",
       "      <td>3.719212</td>\n",
       "      <td>0.106992</td>\n",
       "      <td>MSKGEELFTGVVPILVELDGDVNGHKFSVSGEGEGDATYGKLTLKF...</td>\n",
       "      <td>1.313512</td>\n",
       "      <td>238</td>\n",
       "      <td>0</td>\n",
       "    </tr>\n",
       "    <tr>\n",
       "      <th>1</th>\n",
       "      <td>SA108D</td>\n",
       "      <td>1</td>\n",
       "      <td>1.301030</td>\n",
       "      <td>NaN</td>\n",
       "      <td>MSKGEELFTGVVPILVELDGDVNGHKFSVSGEGEGDATYGKLTLKF...</td>\n",
       "      <td>0.263156</td>\n",
       "      <td>238</td>\n",
       "      <td>1</td>\n",
       "    </tr>\n",
       "    <tr>\n",
       "      <th>2</th>\n",
       "      <td>SA108D:SN144D:SI186V:SM231T:SL234P</td>\n",
       "      <td>1</td>\n",
       "      <td>1.301031</td>\n",
       "      <td>NaN</td>\n",
       "      <td>MSKGEELFTGVVPILVELDGDVNGHKFSVSGEGEGDATYGKLTLKF...</td>\n",
       "      <td>0.263157</td>\n",
       "      <td>238</td>\n",
       "      <td>5</td>\n",
       "    </tr>\n",
       "  </tbody>\n",
       "</table>\n",
       "</div>"
      ],
      "text/plain": [
       "                          aaMutations  uniqueBarcodes  medianBrightness  \\\n",
       "0                                                3645          3.719212   \n",
       "1                              SA108D               1          1.301030   \n",
       "2  SA108D:SN144D:SI186V:SM231T:SL234P               1          1.301031   \n",
       "\n",
       "        std                                           sequence  log_bright  \\\n",
       "0  0.106992  MSKGEELFTGVVPILVELDGDVNGHKFSVSGEGEGDATYGKLTLKF...    1.313512   \n",
       "1       NaN  MSKGEELFTGVVPILVELDGDVNGHKFSVSGEGEGDATYGKLTLKF...    0.263156   \n",
       "2       NaN  MSKGEELFTGVVPILVELDGDVNGHKFSVSGEGEGDATYGKLTLKF...    0.263157   \n",
       "\n",
       "   length  mutation_count  \n",
       "0     238               0  \n",
       "1     238               1  \n",
       "2     238               5  "
      ]
     },
     "execution_count": 7,
     "metadata": {},
     "output_type": "execute_result"
    }
   ],
   "source": [
    "data.head(3)"
   ]
  },
  {
   "cell_type": "code",
   "execution_count": 8,
   "metadata": {},
   "outputs": [
    {
     "data": {
      "text/plain": [
       "array([ 0,  1,  5,  4,  2,  6,  3,  7,  8, 11, 12, 10,  9, 13, 14, 15])"
      ]
     },
     "execution_count": 8,
     "metadata": {},
     "output_type": "execute_result"
    }
   ],
   "source": [
    "data.mutation_count.unique()"
   ]
  },
  {
   "cell_type": "code",
   "execution_count": 9,
   "metadata": {},
   "outputs": [
    {
     "data": {
      "text/plain": [
       "array([238])"
      ]
     },
     "execution_count": 9,
     "metadata": {},
     "output_type": "execute_result"
    }
   ],
   "source": [
    "data.length.unique()"
   ]
  },
  {
   "cell_type": "markdown",
   "metadata": {},
   "source": [
    "## Get reps"
   ]
  },
  {
   "cell_type": "code",
   "execution_count": 10,
   "metadata": {},
   "outputs": [],
   "source": [
    "from jax_unirep import get_reps"
   ]
  },
  {
   "cell_type": "code",
   "execution_count": 11,
   "metadata": {},
   "outputs": [
    {
     "name": "stderr",
     "output_type": "stream",
     "text": [
      "/home/kummear1/anaconda/envs/genesis/lib/python3.7/site-packages/jax/lib/xla_bridge.py:119: UserWarning: No GPU/TPU found, falling back to CPU.\n",
      "  warnings.warn('No GPU/TPU found, falling back to CPU.')\n"
     ]
    }
   ],
   "source": [
    "h_final, c_final, h_avg = get_reps(data.sequence.values)"
   ]
  },
  {
   "cell_type": "code",
   "execution_count": 12,
   "metadata": {},
   "outputs": [
    {
     "data": {
      "text/plain": [
       "(51715, 1900)"
      ]
     },
     "execution_count": 12,
     "metadata": {},
     "output_type": "execute_result"
    }
   ],
   "source": [
    "h_avg.shape"
   ]
  },
  {
   "cell_type": "code",
   "execution_count": 13,
   "metadata": {},
   "outputs": [],
   "source": [
    "data[\"h_avg\"] = h_avg.tolist()\n",
    "data[\"h_final\"] = h_final.tolist()\n",
    "data[\"c_final\"] = c_final.tolist()"
   ]
  },
  {
   "cell_type": "code",
   "execution_count": 14,
   "metadata": {},
   "outputs": [],
   "source": [
    "def fusion(x):\n",
    "    return np.concatenate((x.h_final,x.c_final, x.h_avg))"
   ]
  },
  {
   "cell_type": "code",
   "execution_count": 15,
   "metadata": {},
   "outputs": [],
   "source": [
    "data = data.join_apply(fusion, \"unirep_fusion\")"
   ]
  },
  {
   "cell_type": "code",
   "execution_count": 16,
   "metadata": {},
   "outputs": [
    {
     "data": {
      "text/html": [
       "<div>\n",
       "<style scoped>\n",
       "    .dataframe tbody tr th:only-of-type {\n",
       "        vertical-align: middle;\n",
       "    }\n",
       "\n",
       "    .dataframe tbody tr th {\n",
       "        vertical-align: top;\n",
       "    }\n",
       "\n",
       "    .dataframe thead th {\n",
       "        text-align: right;\n",
       "    }\n",
       "</style>\n",
       "<table border=\"1\" class=\"dataframe\">\n",
       "  <thead>\n",
       "    <tr style=\"text-align: right;\">\n",
       "      <th></th>\n",
       "      <th>aaMutations</th>\n",
       "      <th>uniqueBarcodes</th>\n",
       "      <th>medianBrightness</th>\n",
       "      <th>std</th>\n",
       "      <th>sequence</th>\n",
       "      <th>log_bright</th>\n",
       "      <th>length</th>\n",
       "      <th>mutation_count</th>\n",
       "      <th>h_avg</th>\n",
       "      <th>h_final</th>\n",
       "      <th>c_final</th>\n",
       "      <th>unirep_fusion</th>\n",
       "    </tr>\n",
       "  </thead>\n",
       "  <tbody>\n",
       "    <tr>\n",
       "      <th>0</th>\n",
       "      <td></td>\n",
       "      <td>3645</td>\n",
       "      <td>3.719212</td>\n",
       "      <td>0.106992</td>\n",
       "      <td>MSKGEELFTGVVPILVELDGDVNGHKFSVSGEGEGDATYGKLTLKF...</td>\n",
       "      <td>1.313512</td>\n",
       "      <td>238</td>\n",
       "      <td>0</td>\n",
       "      <td>[0.005286789033561945, -0.047703251242637634, ...</td>\n",
       "      <td>[0.0005321554490365088, 0.0019708347972482443,...</td>\n",
       "      <td>[0.5109664797782898, 0.0102715864777565, 11.35...</td>\n",
       "      <td>[0.0005321554490365088, 0.0019708347972482443,...</td>\n",
       "    </tr>\n",
       "    <tr>\n",
       "      <th>1</th>\n",
       "      <td>SA108D</td>\n",
       "      <td>1</td>\n",
       "      <td>1.301030</td>\n",
       "      <td>NaN</td>\n",
       "      <td>MSKGEELFTGVVPILVELDGDVNGHKFSVSGEGEGDATYGKLTLKF...</td>\n",
       "      <td>0.263156</td>\n",
       "      <td>238</td>\n",
       "      <td>1</td>\n",
       "      <td>[0.005465304013341665, -0.04703034088015556, 0...</td>\n",
       "      <td>[0.00045735202729701996, 0.03457057476043701, ...</td>\n",
       "      <td>[0.4147320091724396, 0.21859541535377502, 11.3...</td>\n",
       "      <td>[0.00045735202729701996, 0.03457057476043701, ...</td>\n",
       "    </tr>\n",
       "    <tr>\n",
       "      <th>2</th>\n",
       "      <td>SA108D:SN144D:SI186V:SM231T:SL234P</td>\n",
       "      <td>1</td>\n",
       "      <td>1.301031</td>\n",
       "      <td>NaN</td>\n",
       "      <td>MSKGEELFTGVVPILVELDGDVNGHKFSVSGEGEGDATYGKLTLKF...</td>\n",
       "      <td>0.263157</td>\n",
       "      <td>238</td>\n",
       "      <td>5</td>\n",
       "      <td>[0.005316670518368483, -0.044092994183301926, ...</td>\n",
       "      <td>[0.0017800081986933947, 0.16200435161590576, 0...</td>\n",
       "      <td>[0.6734200716018677, 0.8357833027839661, 11.74...</td>\n",
       "      <td>[0.0017800081986933947, 0.16200435161590576, 0...</td>\n",
       "    </tr>\n",
       "  </tbody>\n",
       "</table>\n",
       "</div>"
      ],
      "text/plain": [
       "                          aaMutations  uniqueBarcodes  medianBrightness  \\\n",
       "0                                                3645          3.719212   \n",
       "1                              SA108D               1          1.301030   \n",
       "2  SA108D:SN144D:SI186V:SM231T:SL234P               1          1.301031   \n",
       "\n",
       "        std                                           sequence  log_bright  \\\n",
       "0  0.106992  MSKGEELFTGVVPILVELDGDVNGHKFSVSGEGEGDATYGKLTLKF...    1.313512   \n",
       "1       NaN  MSKGEELFTGVVPILVELDGDVNGHKFSVSGEGEGDATYGKLTLKF...    0.263156   \n",
       "2       NaN  MSKGEELFTGVVPILVELDGDVNGHKFSVSGEGEGDATYGKLTLKF...    0.263157   \n",
       "\n",
       "   length  mutation_count                                              h_avg  \\\n",
       "0     238               0  [0.005286789033561945, -0.047703251242637634, ...   \n",
       "1     238               1  [0.005465304013341665, -0.04703034088015556, 0...   \n",
       "2     238               5  [0.005316670518368483, -0.044092994183301926, ...   \n",
       "\n",
       "                                             h_final  \\\n",
       "0  [0.0005321554490365088, 0.0019708347972482443,...   \n",
       "1  [0.00045735202729701996, 0.03457057476043701, ...   \n",
       "2  [0.0017800081986933947, 0.16200435161590576, 0...   \n",
       "\n",
       "                                             c_final  \\\n",
       "0  [0.5109664797782898, 0.0102715864777565, 11.35...   \n",
       "1  [0.4147320091724396, 0.21859541535377502, 11.3...   \n",
       "2  [0.6734200716018677, 0.8357833027839661, 11.74...   \n",
       "\n",
       "                                       unirep_fusion  \n",
       "0  [0.0005321554490365088, 0.0019708347972482443,...  \n",
       "1  [0.00045735202729701996, 0.03457057476043701, ...  \n",
       "2  [0.0017800081986933947, 0.16200435161590576, 0...  "
      ]
     },
     "execution_count": 16,
     "metadata": {},
     "output_type": "execute_result"
    }
   ],
   "source": [
    "data.head(3)"
   ]
  },
  {
   "cell_type": "code",
   "execution_count": 17,
   "metadata": {},
   "outputs": [],
   "source": [
    "import matplotlib.pyplot as plt\n",
    "import seaborn as sns"
   ]
  },
  {
   "cell_type": "code",
   "execution_count": 18,
   "metadata": {},
   "outputs": [],
   "source": [
    "sns.set_style(\"white\")\n",
    "sns.set_context(context=\"paper\", font_scale=1.5)"
   ]
  },
  {
   "cell_type": "code",
   "execution_count": 21,
   "metadata": {},
   "outputs": [
    {
     "name": "stderr",
     "output_type": "stream",
     "text": [
      "/home/kummear1/anaconda/envs/genesis/lib/python3.7/site-packages/ipykernel_launcher.py:1: FutureWarning: from_items is deprecated. Please use DataFrame.from_dict(dict(items), ...) instead. DataFrame.from_dict(OrderedDict(items)) may be used to preserve the key order.\n",
      "  \"\"\"Entry point for launching an IPython kernel.\n"
     ]
    },
    {
     "data": {
      "text/html": [
       "<div>\n",
       "<style scoped>\n",
       "    .dataframe tbody tr th:only-of-type {\n",
       "        vertical-align: middle;\n",
       "    }\n",
       "\n",
       "    .dataframe tbody tr th {\n",
       "        vertical-align: top;\n",
       "    }\n",
       "\n",
       "    .dataframe thead th {\n",
       "        text-align: right;\n",
       "    }\n",
       "</style>\n",
       "<table border=\"1\" class=\"dataframe\">\n",
       "  <thead>\n",
       "    <tr style=\"text-align: right;\">\n",
       "      <th></th>\n",
       "      <th>0</th>\n",
       "      <th>1</th>\n",
       "      <th>2</th>\n",
       "      <th>3</th>\n",
       "      <th>4</th>\n",
       "      <th>5</th>\n",
       "      <th>6</th>\n",
       "      <th>7</th>\n",
       "      <th>8</th>\n",
       "      <th>9</th>\n",
       "      <th>...</th>\n",
       "      <th>1891</th>\n",
       "      <th>1892</th>\n",
       "      <th>1893</th>\n",
       "      <th>1894</th>\n",
       "      <th>1895</th>\n",
       "      <th>1896</th>\n",
       "      <th>1897</th>\n",
       "      <th>1898</th>\n",
       "      <th>1899</th>\n",
       "      <th>brightness</th>\n",
       "    </tr>\n",
       "    <tr>\n",
       "      <th>aaMutations</th>\n",
       "      <th></th>\n",
       "      <th></th>\n",
       "      <th></th>\n",
       "      <th></th>\n",
       "      <th></th>\n",
       "      <th></th>\n",
       "      <th></th>\n",
       "      <th></th>\n",
       "      <th></th>\n",
       "      <th></th>\n",
       "      <th></th>\n",
       "      <th></th>\n",
       "      <th></th>\n",
       "      <th></th>\n",
       "      <th></th>\n",
       "      <th></th>\n",
       "      <th></th>\n",
       "      <th></th>\n",
       "      <th></th>\n",
       "      <th></th>\n",
       "      <th></th>\n",
       "    </tr>\n",
       "  </thead>\n",
       "  <tbody>\n",
       "    <tr>\n",
       "      <th></th>\n",
       "      <td>0.005287</td>\n",
       "      <td>-0.047703</td>\n",
       "      <td>0.034449</td>\n",
       "      <td>-0.006703</td>\n",
       "      <td>-0.034524</td>\n",
       "      <td>0.035922</td>\n",
       "      <td>-0.330424</td>\n",
       "      <td>-0.014642</td>\n",
       "      <td>-0.005357</td>\n",
       "      <td>0.065449</td>\n",
       "      <td>...</td>\n",
       "      <td>0.160367</td>\n",
       "      <td>-0.128550</td>\n",
       "      <td>0.049702</td>\n",
       "      <td>-0.130527</td>\n",
       "      <td>0.055046</td>\n",
       "      <td>0.072976</td>\n",
       "      <td>0.029286</td>\n",
       "      <td>0.070990</td>\n",
       "      <td>0.005483</td>\n",
       "      <td>3.719212</td>\n",
       "    </tr>\n",
       "    <tr>\n",
       "      <th>SA108D</th>\n",
       "      <td>0.005465</td>\n",
       "      <td>-0.047030</td>\n",
       "      <td>0.035205</td>\n",
       "      <td>-0.008162</td>\n",
       "      <td>-0.062971</td>\n",
       "      <td>0.037026</td>\n",
       "      <td>-0.332218</td>\n",
       "      <td>-0.014865</td>\n",
       "      <td>-0.005466</td>\n",
       "      <td>0.081338</td>\n",
       "      <td>...</td>\n",
       "      <td>0.149888</td>\n",
       "      <td>-0.138496</td>\n",
       "      <td>0.044121</td>\n",
       "      <td>-0.127607</td>\n",
       "      <td>0.058758</td>\n",
       "      <td>0.071847</td>\n",
       "      <td>0.026552</td>\n",
       "      <td>0.072563</td>\n",
       "      <td>0.010115</td>\n",
       "      <td>1.301030</td>\n",
       "    </tr>\n",
       "    <tr>\n",
       "      <th>SA108D:SN144D:SI186V:SM231T:SL234P</th>\n",
       "      <td>0.005317</td>\n",
       "      <td>-0.044093</td>\n",
       "      <td>0.033275</td>\n",
       "      <td>-0.007902</td>\n",
       "      <td>-0.066020</td>\n",
       "      <td>0.035382</td>\n",
       "      <td>-0.332055</td>\n",
       "      <td>-0.015488</td>\n",
       "      <td>-0.005496</td>\n",
       "      <td>0.078344</td>\n",
       "      <td>...</td>\n",
       "      <td>0.158680</td>\n",
       "      <td>-0.132788</td>\n",
       "      <td>0.042793</td>\n",
       "      <td>-0.129582</td>\n",
       "      <td>0.051753</td>\n",
       "      <td>0.077186</td>\n",
       "      <td>0.027540</td>\n",
       "      <td>0.074552</td>\n",
       "      <td>0.008035</td>\n",
       "      <td>1.301031</td>\n",
       "    </tr>\n",
       "  </tbody>\n",
       "</table>\n",
       "<p>3 rows × 1901 columns</p>\n",
       "</div>"
      ],
      "text/plain": [
       "                                           0         1         2         3  \\\n",
       "aaMutations                                                                  \n",
       "                                    0.005287 -0.047703  0.034449 -0.006703   \n",
       "SA108D                              0.005465 -0.047030  0.035205 -0.008162   \n",
       "SA108D:SN144D:SI186V:SM231T:SL234P  0.005317 -0.044093  0.033275 -0.007902   \n",
       "\n",
       "                                           4         5         6         7  \\\n",
       "aaMutations                                                                  \n",
       "                                   -0.034524  0.035922 -0.330424 -0.014642   \n",
       "SA108D                             -0.062971  0.037026 -0.332218 -0.014865   \n",
       "SA108D:SN144D:SI186V:SM231T:SL234P -0.066020  0.035382 -0.332055 -0.015488   \n",
       "\n",
       "                                           8         9  ...      1891  \\\n",
       "aaMutations                                             ...             \n",
       "                                   -0.005357  0.065449  ...  0.160367   \n",
       "SA108D                             -0.005466  0.081338  ...  0.149888   \n",
       "SA108D:SN144D:SI186V:SM231T:SL234P -0.005496  0.078344  ...  0.158680   \n",
       "\n",
       "                                        1892      1893      1894      1895  \\\n",
       "aaMutations                                                                  \n",
       "                                   -0.128550  0.049702 -0.130527  0.055046   \n",
       "SA108D                             -0.138496  0.044121 -0.127607  0.058758   \n",
       "SA108D:SN144D:SI186V:SM231T:SL234P -0.132788  0.042793 -0.129582  0.051753   \n",
       "\n",
       "                                        1896      1897      1898      1899  \\\n",
       "aaMutations                                                                  \n",
       "                                    0.072976  0.029286  0.070990  0.005483   \n",
       "SA108D                              0.071847  0.026552  0.072563  0.010115   \n",
       "SA108D:SN144D:SI186V:SM231T:SL234P  0.077186  0.027540  0.074552  0.008035   \n",
       "\n",
       "                                    brightness  \n",
       "aaMutations                                     \n",
       "                                      3.719212  \n",
       "SA108D                                1.301030  \n",
       "SA108D:SN144D:SI186V:SM231T:SL234P    1.301031  \n",
       "\n",
       "[3 rows x 1901 columns]"
      ]
     },
     "execution_count": 21,
     "metadata": {},
     "output_type": "execute_result"
    }
   ],
   "source": [
    "df = pd.DataFrame.from_items(zip(data['h_avg'].index, data['h_avg'].values)).T\n",
    "df['brightness'] = data[\"medianBrightness\"].values\n",
    "df.set_index(data['aaMutations'], inplace=True)\n",
    "df.head(3)"
   ]
  },
  {
   "cell_type": "code",
   "execution_count": 22,
   "metadata": {},
   "outputs": [],
   "source": [
    "df_bnry = df.copy()\n",
    "df_bnry[\"brightness\"] = (df[\"brightness\"] < 2.5).astype(int)"
   ]
  },
  {
   "cell_type": "code",
   "execution_count": 23,
   "metadata": {},
   "outputs": [],
   "source": [
    "X, y = df_bnry.shuffle().get_features_targets(target_column_names=['brightness'])"
   ]
  },
  {
   "cell_type": "code",
   "execution_count": 24,
   "metadata": {},
   "outputs": [
    {
     "name": "stdout",
     "output_type": "stream",
     "text": [
      "(51715, 1900) (51715, 1)\n"
     ]
    }
   ],
   "source": [
    "print(X.shape, y.shape)"
   ]
  },
  {
   "cell_type": "markdown",
   "metadata": {},
   "source": [
    "# Training and Testing"
   ]
  },
  {
   "cell_type": "code",
   "execution_count": 25,
   "metadata": {},
   "outputs": [],
   "source": [
    "from sklearn.linear_model import LogisticRegression\n",
    "from sklearn.model_selection import cross_val_score, ShuffleSplit, cross_val_predict, KFold"
   ]
  },
  {
   "cell_type": "markdown",
   "metadata": {},
   "source": [
    "### Logistic Regression on binary brightness"
   ]
  },
  {
   "cell_type": "code",
   "execution_count": 26,
   "metadata": {},
   "outputs": [],
   "source": [
    "logreg = LogisticRegression()"
   ]
  },
  {
   "cell_type": "code",
   "execution_count": 27,
   "metadata": {},
   "outputs": [
    {
     "name": "stderr",
     "output_type": "stream",
     "text": [
      "/home/kummear1/anaconda/envs/genesis/lib/python3.7/site-packages/sklearn/linear_model/logistic.py:432: FutureWarning: Default solver will be changed to 'lbfgs' in 0.22. Specify a solver to silence this warning.\n",
      "  FutureWarning)\n",
      "/home/kummear1/anaconda/envs/genesis/lib/python3.7/site-packages/sklearn/linear_model/logistic.py:432: FutureWarning: Default solver will be changed to 'lbfgs' in 0.22. Specify a solver to silence this warning.\n",
      "  FutureWarning)\n",
      "/home/kummear1/anaconda/envs/genesis/lib/python3.7/site-packages/sklearn/linear_model/logistic.py:432: FutureWarning: Default solver will be changed to 'lbfgs' in 0.22. Specify a solver to silence this warning.\n",
      "  FutureWarning)\n",
      "/home/kummear1/anaconda/envs/genesis/lib/python3.7/site-packages/sklearn/linear_model/logistic.py:432: FutureWarning: Default solver will be changed to 'lbfgs' in 0.22. Specify a solver to silence this warning.\n",
      "  FutureWarning)\n",
      "/home/kummear1/anaconda/envs/genesis/lib/python3.7/site-packages/sklearn/linear_model/logistic.py:432: FutureWarning: Default solver will be changed to 'lbfgs' in 0.22. Specify a solver to silence this warning.\n",
      "  FutureWarning)\n",
      "/home/kummear1/anaconda/envs/genesis/lib/python3.7/site-packages/sklearn/linear_model/logistic.py:432: FutureWarning: Default solver will be changed to 'lbfgs' in 0.22. Specify a solver to silence this warning.\n",
      "  FutureWarning)\n",
      "/home/kummear1/anaconda/envs/genesis/lib/python3.7/site-packages/sklearn/linear_model/logistic.py:432: FutureWarning: Default solver will be changed to 'lbfgs' in 0.22. Specify a solver to silence this warning.\n",
      "  FutureWarning)\n",
      "/home/kummear1/anaconda/envs/genesis/lib/python3.7/site-packages/sklearn/linear_model/logistic.py:432: FutureWarning: Default solver will be changed to 'lbfgs' in 0.22. Specify a solver to silence this warning.\n",
      "  FutureWarning)\n",
      "/home/kummear1/anaconda/envs/genesis/lib/python3.7/site-packages/sklearn/linear_model/logistic.py:432: FutureWarning: Default solver will be changed to 'lbfgs' in 0.22. Specify a solver to silence this warning.\n",
      "  FutureWarning)\n",
      "/home/kummear1/anaconda/envs/genesis/lib/python3.7/site-packages/sklearn/linear_model/logistic.py:432: FutureWarning: Default solver will be changed to 'lbfgs' in 0.22. Specify a solver to silence this warning.\n",
      "  FutureWarning)\n"
     ]
    }
   ],
   "source": [
    "# with paLogisticRegressionlel_backend(\"dask\"):\n",
    "cv = KFold(n_splits=5)\n",
    "scores = cross_val_score(logreg, X, y.values.ravel(), cv=cv, scoring='accuracy')\n",
    "preds = cross_val_predict(logreg, X, y.values.ravel(), cv=cv)"
   ]
  },
  {
   "cell_type": "code",
   "execution_count": 28,
   "metadata": {},
   "outputs": [
    {
     "data": {
      "text/plain": [
       "array([0.82248864, 0.82374553, 0.82045828, 0.82181185, 0.81591414])"
      ]
     },
     "execution_count": 28,
     "metadata": {},
     "output_type": "execute_result"
    }
   ],
   "source": [
    "scores"
   ]
  },
  {
   "cell_type": "code",
   "execution_count": 29,
   "metadata": {},
   "outputs": [
    {
     "data": {
      "text/plain": [
       "0.8208836894518031"
      ]
     },
     "execution_count": 29,
     "metadata": {},
     "output_type": "execute_result"
    }
   ],
   "source": [
    "scores.mean()"
   ]
  },
  {
   "cell_type": "code",
   "execution_count": 30,
   "metadata": {},
   "outputs": [],
   "source": [
    "from sklearn.metrics import confusion_matrix"
   ]
  },
  {
   "cell_type": "code",
   "execution_count": 31,
   "metadata": {},
   "outputs": [],
   "source": [
    "labels = [0, 1]\n",
    "cm = confusion_matrix(y, preds, labels)\n",
    "cm = cm.astype('float') / cm.sum(axis=1)[:, np.newaxis]"
   ]
  },
  {
   "cell_type": "code",
   "execution_count": 41,
   "metadata": {},
   "outputs": [
    {
     "data": {
      "text/plain": [
       "array([[0.92598132, 0.07401868],\n",
       "       [0.32531903, 0.67468097]])"
      ]
     },
     "execution_count": 41,
     "metadata": {},
     "output_type": "execute_result"
    }
   ],
   "source": [
    "cm"
   ]
  },
  {
   "cell_type": "code",
   "execution_count": 32,
   "metadata": {},
   "outputs": [],
   "source": [
    "classes = [\"Dark\", \"Bright\"]"
   ]
  },
  {
   "cell_type": "code",
   "execution_count": 47,
   "metadata": {},
   "outputs": [
    {
     "data": {
      "image/png": "[encoded data removed]",
      "text/plain": [
       "<Figure size 864x432 with 3 Axes>"
      ]
     },
     "metadata": {},
     "output_type": "display_data"
    }
   ],
   "source": [
    "fig, (ax1, ax2) = plt.subplots(figsize=(12, 6), nrows=1, ncols=2)\n",
    "\n",
    "sns.distplot(data[\"medianBrightness\"], ax=ax1)\n",
    "ax1.axvline(x=2.5, c=\"r\", ls=\"--\", lw=2)\n",
    "ax1.set(xlabel=\"median Brightness\", ylabel=\"value\")\n",
    "sns.despine()\n",
    "\n",
    "df_cm = pd.DataFrame(\n",
    "    cm, index=classes, columns=classes, \n",
    ")\n",
    "\n",
    "heatmap = sns.heatmap(df_cm, \n",
    "                      annot=True, \n",
    "                      fmt=\".2f\", \n",
    "                      cmap=\"Blues\",\n",
    "                      ax=ax2\n",
    "                     )\n",
    "\n",
    "ax2.set_yticklabels(heatmap.yaxis.get_ticklabels(), rotation=90, fontsize=14)\n",
    "ax2.set_xticklabels(heatmap.xaxis.get_ticklabels(), rotation=0, fontsize=14)\n",
    "ax2.set_ylabel('True label')\n",
    "ax2.set_xlabel('Predicted label')\n",
    "plt.savefig(\"figures/top_model.png\", bbox_inches='tight', dpi=200)"
   ]
  }
 ],
 "metadata": {
  "kernelspec": {
   "display_name": "genesis",
   "language": "python",
   "name": "genesis"
  },
  "language_info": {
   "codemirror_mode": {
    "name": "ipython",
    "version": 3
   },
   "file_extension": ".py",
   "mimetype": "text/x-python",
   "name": "python",
   "nbconvert_exporter": "python",
   "pygments_lexer": "ipython3",
   "version": "3.7.6"
  }
 },
 "nbformat": 4,
 "nbformat_minor": 4
}
