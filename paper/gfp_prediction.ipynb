{
 "cells": [
  {
   "cell_type": "markdown",
   "metadata": {},
   "source": [
    "# GFP mutant prediction\n",
    "\n",
    "In this notebook, we try to classify GFP mutants into a \"bright\" and a \"dark\" class, using UniRep to encode the GFP protein sequences.\n",
    "\n",
    "There is a conda environment file available, containing all necessary dependencies to re-run the analysis, under `paper/environment-gfp.yml`."
   ]
  },
  {
   "cell_type": "code",
   "execution_count": null,
   "metadata": {},
   "outputs": [],
   "source": [
    "import numpy as np\n",
    "import pandas as pd\n",
    "import janitor\n",
    "\n",
    "from functools import partial"
   ]
  },
  {
   "cell_type": "code",
   "execution_count": null,
   "metadata": {},
   "outputs": [],
   "source": [
    "wt =\"SKGEELFTGVVPILVELDGDVNGHKFSVSGEGEGDATYGKLTLKFICTTGKLPVPWPTLVTTLSYGVQCFSRYPDHMKQHDFFKSAMPEGYVQERTIFFKDDGNYKTRAEVKFEGDTLVNRIELKGIDFKEDGNILGHKLEYNYNSHNVYIMADKQKNGIKVNFKIRHNIEDGSVQLADHYQQNTPIGDGPVLLPDNHYLSTQSALSKDPNEKRDHMVLLEFVTAAGITHGMDELYK\""
   ]
  },
  {
   "cell_type": "code",
   "execution_count": null,
   "metadata": {},
   "outputs": [],
   "source": [
    "def aa_pos(mut):\n",
    "    \"\"\"\n",
    "    Return mutation position from mutation string.\n",
    "\n",
    "    Example: A111C -> 111\n",
    "    \"\"\"\n",
    "    if not mut:\n",
    "        return mut\n",
    "    else:\n",
    "        return int(mut[2:-1])\n",
    "\n",
    "\n",
    "def aa_letter(mut):\n",
    "    \"\"\"\n",
    "    Return mutation letter from mutation string.\n",
    "\n",
    "    Example: A111C -> C\n",
    "    \"\"\"\n",
    "    if not mut:\n",
    "        return mut\n",
    "    else:\n",
    "        return mut[-1]\n",
    "\n",
    "\n",
    "def mut2seq(mutation_string, wt_sequence, delimiter=\":\"):\n",
    "    \"\"\"\n",
    "    Reconstruct full mutant sequence given mutation string.\n",
    "\n",
    "    Example mutation_strings:\n",
    "    - A111C\n",
    "    - A111T; V130A\n",
    "    - A111T; Q194R; N249I; N251Y; H255Y\n",
    "    \"\"\"\n",
    "    if mutation_string is None or mutation_string == \"\":\n",
    "        return wt_sequence\n",
    "\n",
    "    mutations = mutation_string.split(delimiter)\n",
    "    mutant_sequence = list(wt_sequence)  # mutant_sequence is a list\n",
    "    for mut in mutations:\n",
    "        position = aa_pos(mut)\n",
    "        letter = aa_letter(mut)\n",
    "        if position == 0:\n",
    "            raise ValueError(\n",
    "                f\"\"\"\n",
    "            The mutation string {mut} is invalid.\n",
    "            It has \"0\" as its position.\n",
    "            \"\"\"\n",
    "            )\n",
    "        if position > len(wt_sequence):\n",
    "            raise ValueError(\n",
    "                f\"\"\"\n",
    "            The mutation string {mut} is invalid.\n",
    "            Its position is greater than the length of the WT sequence.\n",
    "            \"\"\"\n",
    "            )\n",
    "        mutant_sequence[\n",
    "            position #- 1\n",
    "        ] = letter  # -1 is necessary because the list is zero-indexed\n",
    "    return \"\".join(l for l in mutant_sequence)"
   ]
  },
  {
   "cell_type": "code",
   "execution_count": null,
   "metadata": {},
   "outputs": [],
   "source": [
    "def count_mutations(x):\n",
    "    if x == '':\n",
    "        return 0\n",
    "    else:\n",
    "        return len(x.split(\":\"))\n"
   ]
  },
  {
   "cell_type": "code",
   "execution_count": null,
   "metadata": {},
   "outputs": [],
   "source": [
    "mut2gfp = partial(mut2seq, wt_sequence=wt)"
   ]
  },
  {
   "cell_type": "markdown",
   "metadata": {},
   "source": [
    "## Prepare data"
   ]
  },
  {
   "cell_type": "code",
   "execution_count": null,
   "metadata": {},
   "outputs": [],
   "source": [
    "data = (pd.read_csv(\"data/amino_acid_genotypes_to_brightness.tsv\", sep='\\t')\n",
    "        .fill_empty(\"aaMutations\", \"\")\n",
    "        .filter_string(\"aaMutations\", search_string=\"\\*\", complement=True)\n",
    "        .transform_column(\"aaMutations\", mut2gfp, \"sequence\")\n",
    "        .transform_column(\"medianBrightness\", lambda x: np.log(x), \"log_bright\")\n",
    "        .transform_column(\"sequence\", lambda x: len(x), \"length\")\n",
    "        .transform_column(\"aaMutations\", count_mutations, \"mutation_count\")\n",
    "       )"
   ]
  },
  {
   "cell_type": "code",
   "execution_count": null,
   "metadata": {},
   "outputs": [],
   "source": [
    "data.head(3)"
   ]
  },
  {
   "cell_type": "code",
   "execution_count": null,
   "metadata": {},
   "outputs": [],
   "source": [
    "data.query(\"aaMutations.str.contains(r'[A-Z]2[A-Z]')\").head(1)"
   ]
  },
  {
   "cell_type": "code",
   "execution_count": null,
   "metadata": {},
   "outputs": [],
   "source": [
    "data.mutation_count.unique()"
   ]
  },
  {
   "cell_type": "code",
   "execution_count": null,
   "metadata": {},
   "outputs": [],
   "source": [
    "data.length.unique()"
   ]
  },
  {
   "cell_type": "markdown",
   "metadata": {},
   "source": [
    "## Get reps\n",
    "\n",
    "We embed the sequences in chunks, to not run out of memory. If you have a lot of memory at your disposal, you can increase chunk size or rep all sequences at once (see commented out code below)."
   ]
  },
  {
   "cell_type": "code",
   "execution_count": null,
   "metadata": {},
   "outputs": [],
   "source": [
    "from jax_unirep import get_reps"
   ]
  },
  {
   "cell_type": "code",
   "execution_count": null,
   "metadata": {},
   "outputs": [],
   "source": [
    "# from: https://stackoverflow.com/questions/434287/what-is-the-most-pythonic-way-to-iterate-over-a-list-in-chunks\n",
    "def chunker(seq, size):\n",
    "    return (seq[pos:pos + size] for pos in range(0, len(seq), size))"
   ]
  },
  {
   "cell_type": "code",
   "execution_count": null,
   "metadata": {},
   "outputs": [],
   "source": [
    "h_final_l, c_final_l, h_avg_l = [], [], []"
   ]
  },
  {
   "cell_type": "code",
   "execution_count": null,
   "metadata": {},
   "outputs": [],
   "source": [
    "for seqs in chunker(data.sequence.values, 1000):\n",
    "    hf, cf, ha = get_reps(seqs)\n",
    "    h_final_l.append(hf)\n",
    "    c_final_l.append(cf)\n",
    "    h_avg_l.append(ha)"
   ]
  },
  {
   "cell_type": "code",
   "execution_count": null,
   "metadata": {},
   "outputs": [],
   "source": [
    "h_final = np.concatenate(h_final_l, axis=0)\n",
    "c_final = np.concatenate(c_final_l, axis=0)\n",
    "h_avg = np.concatenate(h_avg_l, axis=0)"
   ]
  },
  {
   "cell_type": "code",
   "execution_count": null,
   "metadata": {},
   "outputs": [],
   "source": [
    "# h_final, c_final, h_avg = get_reps(data.sequence.values)"
   ]
  },
  {
   "cell_type": "code",
   "execution_count": null,
   "metadata": {},
   "outputs": [],
   "source": [
    "h_avg.shape"
   ]
  },
  {
   "cell_type": "code",
   "execution_count": null,
   "metadata": {},
   "outputs": [],
   "source": [
    "data[\"h_avg\"] = h_avg.tolist()\n",
    "data[\"h_final\"] = h_final.tolist()\n",
    "data[\"c_final\"] = c_final.tolist()"
   ]
  },
  {
   "cell_type": "code",
   "execution_count": null,
   "metadata": {},
   "outputs": [],
   "source": [
    "def fusion(x):\n",
    "    return np.concatenate((x.h_final,x.c_final, x.h_avg))"
   ]
  },
  {
   "cell_type": "code",
   "execution_count": null,
   "metadata": {},
   "outputs": [],
   "source": [
    "data = data.join_apply(fusion, \"unirep_fusion\")"
   ]
  },
  {
   "cell_type": "code",
   "execution_count": null,
   "metadata": {},
   "outputs": [],
   "source": [
    "data.head(3)"
   ]
  },
  {
   "cell_type": "code",
   "execution_count": null,
   "metadata": {},
   "outputs": [],
   "source": [
    "import matplotlib.pyplot as plt\n",
    "import seaborn as sns"
   ]
  },
  {
   "cell_type": "code",
   "execution_count": null,
   "metadata": {},
   "outputs": [],
   "source": [
    "sns.set_style(\"white\")\n",
    "sns.set_context(context=\"paper\", font_scale=1.5)"
   ]
  },
  {
   "cell_type": "code",
   "execution_count": null,
   "metadata": {},
   "outputs": [],
   "source": [
    "df = pd.DataFrame.from_dict(dict(zip(data['h_avg'].index, data['h_avg'].values))).T\n",
    "df['brightness'] = data[\"medianBrightness\"].values\n",
    "df.set_index(data['aaMutations'], inplace=True)\n",
    "df.head(3)"
   ]
  },
  {
   "cell_type": "code",
   "execution_count": null,
   "metadata": {},
   "outputs": [],
   "source": [
    "df_bnry = df.copy()\n",
    "df_bnry[\"brightness\"] = (df[\"brightness\"] < 2.5).astype(int)"
   ]
  },
  {
   "cell_type": "code",
   "execution_count": null,
   "metadata": {},
   "outputs": [],
   "source": [
    "X, y = df_bnry.shuffle().get_features_targets(target_column_names=['brightness'])"
   ]
  },
  {
   "cell_type": "code",
   "execution_count": null,
   "metadata": {},
   "outputs": [],
   "source": [
    "print(X.shape, y.shape)"
   ]
  },
  {
   "cell_type": "markdown",
   "metadata": {},
   "source": [
    "# Training and Testing"
   ]
  },
  {
   "cell_type": "code",
   "execution_count": null,
   "metadata": {},
   "outputs": [],
   "source": [
    "from sklearn.linear_model import LogisticRegression\n",
    "from sklearn.model_selection import cross_val_score, ShuffleSplit, cross_val_predict, KFold\n",
    "from sklearn import preprocessing"
   ]
  },
  {
   "cell_type": "markdown",
   "metadata": {},
   "source": [
    "### Logistic Regression on binary brightness"
   ]
  },
  {
   "cell_type": "code",
   "execution_count": null,
   "metadata": {},
   "outputs": [],
   "source": [
    "X_pp = preprocessing.scale(X)"
   ]
  },
  {
   "cell_type": "code",
   "execution_count": null,
   "metadata": {},
   "outputs": [],
   "source": [
    "logreg = LogisticRegression(max_iter=300)"
   ]
  },
  {
   "cell_type": "code",
   "execution_count": null,
   "metadata": {},
   "outputs": [],
   "source": [
    "# with paLogisticRegressionlel_backend(\"dask\"):\n",
    "cv = KFold(n_splits=5)\n",
    "scores = cross_val_score(logreg, X_pp, y.values.ravel(), cv=cv, scoring='accuracy')\n",
    "preds = cross_val_predict(logreg, X_pp, y.values.ravel(), cv=cv)"
   ]
  },
  {
   "cell_type": "code",
   "execution_count": null,
   "metadata": {},
   "outputs": [],
   "source": [
    "scores"
   ]
  },
  {
   "cell_type": "code",
   "execution_count": null,
   "metadata": {},
   "outputs": [],
   "source": [
    "scores.mean()"
   ]
  },
  {
   "cell_type": "code",
   "execution_count": null,
   "metadata": {},
   "outputs": [],
   "source": [
    "from sklearn.metrics import confusion_matrix"
   ]
  },
  {
   "cell_type": "code",
   "execution_count": null,
   "metadata": {},
   "outputs": [],
   "source": [
    "labels = [0, 1]\n",
    "cm = confusion_matrix(y, preds, labels)\n",
    "cm = cm.astype('float') / cm.sum(axis=1)[:, np.newaxis]"
   ]
  },
  {
   "cell_type": "code",
   "execution_count": null,
   "metadata": {},
   "outputs": [],
   "source": [
    "cm"
   ]
  },
  {
   "cell_type": "code",
   "execution_count": null,
   "metadata": {},
   "outputs": [],
   "source": [
    "classes = [\"Dark\", \"Bright\"]"
   ]
  },
  {
   "cell_type": "code",
   "execution_count": null,
   "metadata": {},
   "outputs": [],
   "source": [
    "fig, (ax1, ax2) = plt.subplots(figsize=(12, 6), nrows=1, ncols=2)\n",
    "\n",
    "sns.distplot(data[\"medianBrightness\"], ax=ax1)\n",
    "ax1.axvline(x=2.5, c=\"r\", ls=\"--\", lw=2)\n",
    "ax1.set(xlabel=\"median Brightness\", ylabel=\"value\")\n",
    "sns.despine()\n",
    "\n",
    "df_cm = pd.DataFrame(\n",
    "    cm, index=classes, columns=classes, \n",
    ")\n",
    "\n",
    "heatmap = sns.heatmap(df_cm, \n",
    "                      annot=True, \n",
    "                      fmt=\".2f\", \n",
    "                      cmap=\"Blues\",\n",
    "                      cbar=False,\n",
    "                      ax=ax2\n",
    "                     )\n",
    "\n",
    "ax2.set_yticklabels(heatmap.yaxis.get_ticklabels(), rotation=90, fontsize=14)\n",
    "ax2.set_xticklabels(heatmap.xaxis.get_ticklabels(), rotation=0, fontsize=14)\n",
    "ax2.set_ylabel('True label')\n",
    "ax2.set_xlabel('Predicted label')\n",
    "plt.savefig(\"figures/top_model.png\", bbox_inches='tight', dpi=200)"
   ]
  },
  {
   "cell_type": "code",
   "execution_count": null,
   "metadata": {},
   "outputs": [],
   "source": []
  }
 ],
 "metadata": {
  "kernelspec": {
   "display_name": "genesis",
   "language": "python",
   "name": "genesis"
  },
  "language_info": {
   "codemirror_mode": {
    "name": "ipython",
    "version": 3
   },
   "file_extension": ".py",
   "mimetype": "text/x-python",
   "name": "python",
   "nbconvert_exporter": "python",
   "pygments_lexer": "ipython3",
   "version": "3.7.7"
  }
 },
 "nbformat": 4,
 "nbformat_minor": 4
}
