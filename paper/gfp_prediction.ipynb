{
 "cells": [
  {
   "cell_type": "markdown",
   "metadata": {},
   "source": [
    "# GFP mutant prediction\n",
    "\n",
    "In this notebook, we try to classify GFP mutants into a \"bright\" and a \"dark\" class, using UniRep to encode the GFP protein sequences.\n",
    "\n",
    "This notebook is also available on binder, where you can re-run the analysis from your browser. Have a look at the binder section in the readme for more information."
   ]
  },
  {
   "cell_type": "code",
   "execution_count": 1,
   "metadata": {},
   "outputs": [],
   "source": [
    "import numpy as np\n",
    "import pandas as pd\n",
    "import janitor\n",
    "\n",
    "from functools import partial"
   ]
  },
  {
   "cell_type": "code",
   "execution_count": 2,
   "metadata": {},
   "outputs": [],
   "source": [
    "wt =\"SKGEELFTGVVPILVELDGDVNGHKFSVSGEGEGDATYGKLTLKFICTTGKLPVPWPTLVTTLSYGVQCFSRYPDHMKQHDFFKSAMPEGYVQERTIFFKDDGNYKTRAEVKFEGDTLVNRIELKGIDFKEDGNILGHKLEYNYNSHNVYIMADKQKNGIKVNFKIRHNIEDGSVQLADHYQQNTPIGDGPVLLPDNHYLSTQSALSKDPNEKRDHMVLLEFVTAAGITHGMDELYK\""
   ]
  },
  {
   "cell_type": "code",
   "execution_count": 3,
   "metadata": {},
   "outputs": [],
   "source": [
    "def aa_pos(mut):\n",
    "    \"\"\"\n",
    "    Return mutation position from mutation string.\n",
    "\n",
    "    Example: A111C -> 111\n",
    "    \"\"\"\n",
    "    if not mut:\n",
    "        return mut\n",
    "    else:\n",
    "        return int(mut[2:-1])\n",
    "\n",
    "\n",
    "def aa_letter(mut):\n",
    "    \"\"\"\n",
    "    Return mutation letter from mutation string.\n",
    "\n",
    "    Example: A111C -> C\n",
    "    \"\"\"\n",
    "    if not mut:\n",
    "        return mut\n",
    "    else:\n",
    "        return mut[-1]\n",
    "\n",
    "\n",
    "def mut2seq(mutation_string, wt_sequence, delimiter=\":\"):\n",
    "    \"\"\"\n",
    "    Reconstruct full mutant sequence given mutation string.\n",
    "\n",
    "    Example mutation_strings:\n",
    "    - A111C\n",
    "    - A111T; V130A\n",
    "    - A111T; Q194R; N249I; N251Y; H255Y\n",
    "    \"\"\"\n",
    "    if mutation_string is None or mutation_string == \"\":\n",
    "        return wt_sequence\n",
    "\n",
    "    mutations = mutation_string.split(delimiter)\n",
    "    mutant_sequence = list(wt_sequence)  # mutant_sequence is a list\n",
    "    for mut in mutations:\n",
    "        position = aa_pos(mut)\n",
    "        letter = aa_letter(mut)\n",
    "        if position == 0:\n",
    "            raise ValueError(\n",
    "                f\"\"\"\n",
    "            The mutation string {mut} is invalid.\n",
    "            It has \"0\" as its position.\n",
    "            \"\"\"\n",
    "            )\n",
    "        if position > len(wt_sequence):\n",
    "            raise ValueError(\n",
    "                f\"\"\"\n",
    "            The mutation string {mut} is invalid.\n",
    "            Its position is greater than the length of the WT sequence.\n",
    "            \"\"\"\n",
    "            )\n",
    "        mutant_sequence[\n",
    "            position #- 1\n",
    "        ] = letter  # -1 is necessary because the list is zero-indexed\n",
    "    return \"\".join(l for l in mutant_sequence)"
   ]
  },
  {
   "cell_type": "code",
   "execution_count": 4,
   "metadata": {},
   "outputs": [],
   "source": [
    "def count_mutations(x):\n",
    "    if x == '':\n",
    "        return 0\n",
    "    else:\n",
    "        return len(x.split(\":\"))\n"
   ]
  },
  {
   "cell_type": "code",
   "execution_count": 5,
   "metadata": {},
   "outputs": [],
   "source": [
    "mut2gfp = partial(mut2seq, wt_sequence=wt)"
   ]
  },
  {
   "cell_type": "markdown",
   "metadata": {},
   "source": [
    "## Prepare data"
   ]
  },
  {
   "cell_type": "code",
   "execution_count": 6,
   "metadata": {},
   "outputs": [],
   "source": [
    "data = (pd.read_csv(\"data/amino_acid_genotypes_to_brightness.tsv\", sep='\\t')\n",
    "        .fill_empty(\"aaMutations\", \"\")\n",
    "        .filter_string(\"aaMutations\", search_string=\"\\*\", complement=True)\n",
    "        .transform_column(\"aaMutations\", mut2gfp, \"sequence\")\n",
    "        .transform_column(\"medianBrightness\", lambda x: np.log(x), \"log_bright\")\n",
    "        .transform_column(\"sequence\", lambda x: len(x), \"length\")\n",
    "        .transform_column(\"aaMutations\", count_mutations, \"mutation_count\")\n",
    "       )"
   ]
  },
  {
   "cell_type": "code",
   "execution_count": 7,
   "metadata": {},
   "outputs": [
    {
     "data": {
      "text/html": [
       "<div>\n",
       "<style scoped>\n",
       "    .dataframe tbody tr th:only-of-type {\n",
       "        vertical-align: middle;\n",
       "    }\n",
       "\n",
       "    .dataframe tbody tr th {\n",
       "        vertical-align: top;\n",
       "    }\n",
       "\n",
       "    .dataframe thead th {\n",
       "        text-align: right;\n",
       "    }\n",
       "</style>\n",
       "<table border=\"1\" class=\"dataframe\">\n",
       "  <thead>\n",
       "    <tr style=\"text-align: right;\">\n",
       "      <th></th>\n",
       "      <th>aaMutations</th>\n",
       "      <th>uniqueBarcodes</th>\n",
       "      <th>medianBrightness</th>\n",
       "      <th>std</th>\n",
       "      <th>sequence</th>\n",
       "      <th>log_bright</th>\n",
       "      <th>length</th>\n",
       "      <th>mutation_count</th>\n",
       "    </tr>\n",
       "  </thead>\n",
       "  <tbody>\n",
       "    <tr>\n",
       "      <th>0</th>\n",
       "      <td></td>\n",
       "      <td>3645</td>\n",
       "      <td>3.719212</td>\n",
       "      <td>0.106992</td>\n",
       "      <td>SKGEELFTGVVPILVELDGDVNGHKFSVSGEGEGDATYGKLTLKFI...</td>\n",
       "      <td>1.313512</td>\n",
       "      <td>237</td>\n",
       "      <td>0</td>\n",
       "    </tr>\n",
       "    <tr>\n",
       "      <th>1</th>\n",
       "      <td>SA108D</td>\n",
       "      <td>1</td>\n",
       "      <td>1.301030</td>\n",
       "      <td>NaN</td>\n",
       "      <td>SKGEELFTGVVPILVELDGDVNGHKFSVSGEGEGDATYGKLTLKFI...</td>\n",
       "      <td>0.263156</td>\n",
       "      <td>237</td>\n",
       "      <td>1</td>\n",
       "    </tr>\n",
       "    <tr>\n",
       "      <th>2</th>\n",
       "      <td>SA108D:SN144D:SI186V:SM231T:SL234P</td>\n",
       "      <td>1</td>\n",
       "      <td>1.301031</td>\n",
       "      <td>NaN</td>\n",
       "      <td>SKGEELFTGVVPILVELDGDVNGHKFSVSGEGEGDATYGKLTLKFI...</td>\n",
       "      <td>0.263157</td>\n",
       "      <td>237</td>\n",
       "      <td>5</td>\n",
       "    </tr>\n",
       "  </tbody>\n",
       "</table>\n",
       "</div>"
      ],
      "text/plain": [
       "                          aaMutations  uniqueBarcodes  medianBrightness  \\\n",
       "0                                                3645          3.719212   \n",
       "1                              SA108D               1          1.301030   \n",
       "2  SA108D:SN144D:SI186V:SM231T:SL234P               1          1.301031   \n",
       "\n",
       "        std                                           sequence  log_bright  \\\n",
       "0  0.106992  SKGEELFTGVVPILVELDGDVNGHKFSVSGEGEGDATYGKLTLKFI...    1.313512   \n",
       "1       NaN  SKGEELFTGVVPILVELDGDVNGHKFSVSGEGEGDATYGKLTLKFI...    0.263156   \n",
       "2       NaN  SKGEELFTGVVPILVELDGDVNGHKFSVSGEGEGDATYGKLTLKFI...    0.263157   \n",
       "\n",
       "   length  mutation_count  \n",
       "0     237               0  \n",
       "1     237               1  \n",
       "2     237               5  "
      ]
     },
     "execution_count": 7,
     "metadata": {},
     "output_type": "execute_result"
    }
   ],
   "source": [
    "data.head(3)"
   ]
  },
  {
   "cell_type": "code",
   "execution_count": 8,
   "metadata": {},
   "outputs": [
    {
     "data": {
      "text/html": [
       "<div>\n",
       "<style scoped>\n",
       "    .dataframe tbody tr th:only-of-type {\n",
       "        vertical-align: middle;\n",
       "    }\n",
       "\n",
       "    .dataframe tbody tr th {\n",
       "        vertical-align: top;\n",
       "    }\n",
       "\n",
       "    .dataframe thead th {\n",
       "        text-align: right;\n",
       "    }\n",
       "</style>\n",
       "<table border=\"1\" class=\"dataframe\">\n",
       "  <thead>\n",
       "    <tr style=\"text-align: right;\">\n",
       "      <th></th>\n",
       "      <th>aaMutations</th>\n",
       "      <th>uniqueBarcodes</th>\n",
       "      <th>medianBrightness</th>\n",
       "      <th>std</th>\n",
       "      <th>sequence</th>\n",
       "      <th>log_bright</th>\n",
       "      <th>length</th>\n",
       "      <th>mutation_count</th>\n",
       "    </tr>\n",
       "  </thead>\n",
       "  <tbody>\n",
       "    <tr>\n",
       "      <th>16351</th>\n",
       "      <td>SG2A</td>\n",
       "      <td>2</td>\n",
       "      <td>3.818888</td>\n",
       "      <td>0.119126</td>\n",
       "      <td>SKAEELFTGVVPILVELDGDVNGHKFSVSGEGEGDATYGKLTLKFI...</td>\n",
       "      <td>1.339959</td>\n",
       "      <td>237</td>\n",
       "      <td>1</td>\n",
       "    </tr>\n",
       "  </tbody>\n",
       "</table>\n",
       "</div>"
      ],
      "text/plain": [
       "      aaMutations  uniqueBarcodes  medianBrightness       std  \\\n",
       "16351        SG2A               2          3.818888  0.119126   \n",
       "\n",
       "                                                sequence  log_bright  length  \\\n",
       "16351  SKAEELFTGVVPILVELDGDVNGHKFSVSGEGEGDATYGKLTLKFI...    1.339959     237   \n",
       "\n",
       "       mutation_count  \n",
       "16351               1  "
      ]
     },
     "execution_count": 8,
     "metadata": {},
     "output_type": "execute_result"
    }
   ],
   "source": [
    "data.query(\"aaMutations.str.contains(r'[A-Z]2[A-Z]')\").head(1)"
   ]
  },
  {
   "cell_type": "code",
   "execution_count": 9,
   "metadata": {},
   "outputs": [
    {
     "data": {
      "text/plain": [
       "array([ 0,  1,  5,  4,  2,  6,  3,  7,  8, 11, 12, 10,  9, 13, 14, 15])"
      ]
     },
     "execution_count": 9,
     "metadata": {},
     "output_type": "execute_result"
    }
   ],
   "source": [
    "data.mutation_count.unique()"
   ]
  },
  {
   "cell_type": "code",
   "execution_count": 10,
   "metadata": {},
   "outputs": [
    {
     "data": {
      "text/plain": [
       "array([237])"
      ]
     },
     "execution_count": 10,
     "metadata": {},
     "output_type": "execute_result"
    }
   ],
   "source": [
    "data.length.unique()"
   ]
  },
  {
   "cell_type": "markdown",
   "metadata": {},
   "source": [
    "## Get reps\n",
    "\n",
    "We embed the sequences in chunks, to not run out of memory. If you have a lot of memory at your disposal, you can increase chunk size or rep all sequences at once (see commented out code below)."
   ]
  },
  {
   "cell_type": "code",
   "execution_count": 11,
   "metadata": {},
   "outputs": [
    {
     "name": "stderr",
     "output_type": "stream",
     "text": [
      "/home/kummear1/anaconda/envs/jax-unirep-gfp/lib/python3.7/site-packages/jax_unirep/evotuning.py:14: TqdmExperimentalWarning: Using `tqdm.autonotebook.tqdm` in notebook mode. Use `tqdm.tqdm` instead to force console mode (e.g. in jupyter console)\n",
      "  from tqdm.autonotebook import tqdm\n",
      "/home/kummear1/anaconda/envs/jax-unirep-gfp/lib/python3.7/site-packages/jax/lib/xla_bridge.py:119: UserWarning: No GPU/TPU found, falling back to CPU.\n",
      "  warnings.warn('No GPU/TPU found, falling back to CPU.')\n"
     ]
    }
   ],
   "source": [
    "from jax_unirep import get_reps"
   ]
  },
  {
   "cell_type": "code",
   "execution_count": 12,
   "metadata": {},
   "outputs": [],
   "source": [
    "def chunker(seq, size):\n",
    "    return (seq[pos:pos + size] for pos in range(0, len(seq), size))"
   ]
  },
  {
   "cell_type": "code",
   "execution_count": 13,
   "metadata": {},
   "outputs": [],
   "source": [
    "h_final_l, c_final_l, h_avg_l = [], [], []"
   ]
  },
  {
   "cell_type": "code",
   "execution_count": 14,
   "metadata": {},
   "outputs": [],
   "source": [
    "for seqs in chunker(data.sequence.values, 1000):\n",
    "    hf, cf, ha = get_reps(seqs)\n",
    "    h_final_l.append(hf)\n",
    "    c_final_l.append(cf)\n",
    "    h_avg_l.append(ha)"
   ]
  },
  {
   "cell_type": "code",
   "execution_count": 15,
   "metadata": {},
   "outputs": [],
   "source": [
    "h_final = np.concatenate(h_final_l, axis=0)\n",
    "c_final = np.concatenate(c_final_l, axis=0)\n",
    "h_avg = np.concatenate(h_avg_l, axis=0)"
   ]
  },
  {
   "cell_type": "code",
   "execution_count": 16,
   "metadata": {},
   "outputs": [],
   "source": [
    "# h_final, c_final, h_avg = get_reps(data.sequence.values)"
   ]
  },
  {
   "cell_type": "code",
   "execution_count": 17,
   "metadata": {},
   "outputs": [
    {
     "data": {
      "text/plain": [
       "(51715, 1900)"
      ]
     },
     "execution_count": 17,
     "metadata": {},
     "output_type": "execute_result"
    }
   ],
   "source": [
    "h_avg.shape"
   ]
  },
  {
   "cell_type": "code",
   "execution_count": 18,
   "metadata": {},
   "outputs": [],
   "source": [
    "data[\"h_avg\"] = h_avg.tolist()\n",
    "data[\"h_final\"] = h_final.tolist()\n",
    "data[\"c_final\"] = c_final.tolist()"
   ]
  },
  {
   "cell_type": "code",
   "execution_count": 19,
   "metadata": {},
   "outputs": [],
   "source": [
    "def fusion(x):\n",
    "    return np.concatenate((x.h_final,x.c_final, x.h_avg))"
   ]
  },
  {
   "cell_type": "code",
   "execution_count": 20,
   "metadata": {},
   "outputs": [],
   "source": [
    "data = data.join_apply(fusion, \"unirep_fusion\")"
   ]
  },
  {
   "cell_type": "code",
   "execution_count": 21,
   "metadata": {},
   "outputs": [
    {
     "data": {
      "text/html": [
       "<div>\n",
       "<style scoped>\n",
       "    .dataframe tbody tr th:only-of-type {\n",
       "        vertical-align: middle;\n",
       "    }\n",
       "\n",
       "    .dataframe tbody tr th {\n",
       "        vertical-align: top;\n",
       "    }\n",
       "\n",
       "    .dataframe thead th {\n",
       "        text-align: right;\n",
       "    }\n",
       "</style>\n",
       "<table border=\"1\" class=\"dataframe\">\n",
       "  <thead>\n",
       "    <tr style=\"text-align: right;\">\n",
       "      <th></th>\n",
       "      <th>aaMutations</th>\n",
       "      <th>uniqueBarcodes</th>\n",
       "      <th>medianBrightness</th>\n",
       "      <th>std</th>\n",
       "      <th>sequence</th>\n",
       "      <th>log_bright</th>\n",
       "      <th>length</th>\n",
       "      <th>mutation_count</th>\n",
       "      <th>h_avg</th>\n",
       "      <th>h_final</th>\n",
       "      <th>c_final</th>\n",
       "      <th>unirep_fusion</th>\n",
       "    </tr>\n",
       "  </thead>\n",
       "  <tbody>\n",
       "    <tr>\n",
       "      <th>0</th>\n",
       "      <td></td>\n",
       "      <td>3645</td>\n",
       "      <td>3.719212</td>\n",
       "      <td>0.106992</td>\n",
       "      <td>SKGEELFTGVVPILVELDGDVNGHKFSVSGEGEGDATYGKLTLKFI...</td>\n",
       "      <td>1.313512</td>\n",
       "      <td>237</td>\n",
       "      <td>0</td>\n",
       "      <td>[0.6212356686592102, 0.10203030705451965, 10.4...</td>\n",
       "      <td>[0.005276355426758528, -0.047913096845149994, ...</td>\n",
       "      <td>[0.0008092806092463434, 0.01394092757254839, 0...</td>\n",
       "      <td>[0.005276355426758528, -0.047913096845149994, ...</td>\n",
       "    </tr>\n",
       "    <tr>\n",
       "      <th>1</th>\n",
       "      <td>SA108D</td>\n",
       "      <td>1</td>\n",
       "      <td>1.301030</td>\n",
       "      <td>NaN</td>\n",
       "      <td>SKGEELFTGVVPILVELDGDVNGHKFSVSGEGEGDATYGKLTLKFI...</td>\n",
       "      <td>0.263156</td>\n",
       "      <td>237</td>\n",
       "      <td>1</td>\n",
       "      <td>[0.5923959016799927, 0.12201326340436935, 10.6...</td>\n",
       "      <td>[0.005335634108632803, -0.04914676025509834, 0...</td>\n",
       "      <td>[0.0006889698561280966, 0.021215006709098816, ...</td>\n",
       "      <td>[0.005335634108632803, -0.04914676025509834, 0...</td>\n",
       "    </tr>\n",
       "    <tr>\n",
       "      <th>2</th>\n",
       "      <td>SA108D:SN144D:SI186V:SM231T:SL234P</td>\n",
       "      <td>1</td>\n",
       "      <td>1.301031</td>\n",
       "      <td>NaN</td>\n",
       "      <td>SKGEELFTGVVPILVELDGDVNGHKFSVSGEGEGDATYGKLTLKFI...</td>\n",
       "      <td>0.263157</td>\n",
       "      <td>237</td>\n",
       "      <td>5</td>\n",
       "      <td>[1.2923187017440796, 0.3601371645927429, 10.44...</td>\n",
       "      <td>[0.0052352058701217175, -0.05025511980056763, ...</td>\n",
       "      <td>[0.0010605393908917904, 0.06153017282485962, 0...</td>\n",
       "      <td>[0.0052352058701217175, -0.05025511980056763, ...</td>\n",
       "    </tr>\n",
       "  </tbody>\n",
       "</table>\n",
       "</div>"
      ],
      "text/plain": [
       "                          aaMutations  uniqueBarcodes  medianBrightness  \\\n",
       "0                                                3645          3.719212   \n",
       "1                              SA108D               1          1.301030   \n",
       "2  SA108D:SN144D:SI186V:SM231T:SL234P               1          1.301031   \n",
       "\n",
       "        std                                           sequence  log_bright  \\\n",
       "0  0.106992  SKGEELFTGVVPILVELDGDVNGHKFSVSGEGEGDATYGKLTLKFI...    1.313512   \n",
       "1       NaN  SKGEELFTGVVPILVELDGDVNGHKFSVSGEGEGDATYGKLTLKFI...    0.263156   \n",
       "2       NaN  SKGEELFTGVVPILVELDGDVNGHKFSVSGEGEGDATYGKLTLKFI...    0.263157   \n",
       "\n",
       "   length  mutation_count                                              h_avg  \\\n",
       "0     237               0  [0.6212356686592102, 0.10203030705451965, 10.4...   \n",
       "1     237               1  [0.5923959016799927, 0.12201326340436935, 10.6...   \n",
       "2     237               5  [1.2923187017440796, 0.3601371645927429, 10.44...   \n",
       "\n",
       "                                             h_final  \\\n",
       "0  [0.005276355426758528, -0.047913096845149994, ...   \n",
       "1  [0.005335634108632803, -0.04914676025509834, 0...   \n",
       "2  [0.0052352058701217175, -0.05025511980056763, ...   \n",
       "\n",
       "                                             c_final  \\\n",
       "0  [0.0008092806092463434, 0.01394092757254839, 0...   \n",
       "1  [0.0006889698561280966, 0.021215006709098816, ...   \n",
       "2  [0.0010605393908917904, 0.06153017282485962, 0...   \n",
       "\n",
       "                                       unirep_fusion  \n",
       "0  [0.005276355426758528, -0.047913096845149994, ...  \n",
       "1  [0.005335634108632803, -0.04914676025509834, 0...  \n",
       "2  [0.0052352058701217175, -0.05025511980056763, ...  "
      ]
     },
     "execution_count": 21,
     "metadata": {},
     "output_type": "execute_result"
    }
   ],
   "source": [
    "data.head(3)"
   ]
  },
  {
   "cell_type": "code",
   "execution_count": 22,
   "metadata": {},
   "outputs": [],
   "source": [
    "import matplotlib.pyplot as plt\n",
    "import seaborn as sns"
   ]
  },
  {
   "cell_type": "code",
   "execution_count": 23,
   "metadata": {},
   "outputs": [],
   "source": [
    "sns.set_style(\"white\")\n",
    "sns.set_context(context=\"paper\", font_scale=1.5)"
   ]
  },
  {
   "cell_type": "code",
   "execution_count": 24,
   "metadata": {},
   "outputs": [
    {
     "data": {
      "text/html": [
       "<div>\n",
       "<style scoped>\n",
       "    .dataframe tbody tr th:only-of-type {\n",
       "        vertical-align: middle;\n",
       "    }\n",
       "\n",
       "    .dataframe tbody tr th {\n",
       "        vertical-align: top;\n",
       "    }\n",
       "\n",
       "    .dataframe thead th {\n",
       "        text-align: right;\n",
       "    }\n",
       "</style>\n",
       "<table border=\"1\" class=\"dataframe\">\n",
       "  <thead>\n",
       "    <tr style=\"text-align: right;\">\n",
       "      <th></th>\n",
       "      <th>0</th>\n",
       "      <th>1</th>\n",
       "      <th>2</th>\n",
       "      <th>3</th>\n",
       "      <th>4</th>\n",
       "      <th>5</th>\n",
       "      <th>6</th>\n",
       "      <th>7</th>\n",
       "      <th>8</th>\n",
       "      <th>9</th>\n",
       "      <th>...</th>\n",
       "      <th>1891</th>\n",
       "      <th>1892</th>\n",
       "      <th>1893</th>\n",
       "      <th>1894</th>\n",
       "      <th>1895</th>\n",
       "      <th>1896</th>\n",
       "      <th>1897</th>\n",
       "      <th>1898</th>\n",
       "      <th>1899</th>\n",
       "      <th>brightness</th>\n",
       "    </tr>\n",
       "    <tr>\n",
       "      <th>aaMutations</th>\n",
       "      <th></th>\n",
       "      <th></th>\n",
       "      <th></th>\n",
       "      <th></th>\n",
       "      <th></th>\n",
       "      <th></th>\n",
       "      <th></th>\n",
       "      <th></th>\n",
       "      <th></th>\n",
       "      <th></th>\n",
       "      <th></th>\n",
       "      <th></th>\n",
       "      <th></th>\n",
       "      <th></th>\n",
       "      <th></th>\n",
       "      <th></th>\n",
       "      <th></th>\n",
       "      <th></th>\n",
       "      <th></th>\n",
       "      <th></th>\n",
       "      <th></th>\n",
       "    </tr>\n",
       "  </thead>\n",
       "  <tbody>\n",
       "    <tr>\n",
       "      <th></th>\n",
       "      <td>0.621236</td>\n",
       "      <td>0.102030</td>\n",
       "      <td>10.404504</td>\n",
       "      <td>-9.851444</td>\n",
       "      <td>0.681564</td>\n",
       "      <td>0.803212</td>\n",
       "      <td>0.554590</td>\n",
       "      <td>-3.610229</td>\n",
       "      <td>-13.569923</td>\n",
       "      <td>-0.201451</td>\n",
       "      <td>...</td>\n",
       "      <td>1.974337</td>\n",
       "      <td>-1.937303</td>\n",
       "      <td>8.058511</td>\n",
       "      <td>-2.392448</td>\n",
       "      <td>2.331100</td>\n",
       "      <td>0.566051</td>\n",
       "      <td>1.272536</td>\n",
       "      <td>0.719893</td>\n",
       "      <td>-1.457668</td>\n",
       "      <td>3.719212</td>\n",
       "    </tr>\n",
       "    <tr>\n",
       "      <th>SA108D</th>\n",
       "      <td>0.592396</td>\n",
       "      <td>0.122013</td>\n",
       "      <td>10.691099</td>\n",
       "      <td>-9.943564</td>\n",
       "      <td>0.761884</td>\n",
       "      <td>0.857018</td>\n",
       "      <td>0.494301</td>\n",
       "      <td>-3.944474</td>\n",
       "      <td>-11.979288</td>\n",
       "      <td>-0.212918</td>\n",
       "      <td>...</td>\n",
       "      <td>2.032164</td>\n",
       "      <td>-1.899304</td>\n",
       "      <td>7.547935</td>\n",
       "      <td>-2.495019</td>\n",
       "      <td>2.111458</td>\n",
       "      <td>0.537725</td>\n",
       "      <td>0.898870</td>\n",
       "      <td>1.317870</td>\n",
       "      <td>-1.442424</td>\n",
       "      <td>1.301030</td>\n",
       "    </tr>\n",
       "    <tr>\n",
       "      <th>SA108D:SN144D:SI186V:SM231T:SL234P</th>\n",
       "      <td>1.292319</td>\n",
       "      <td>0.360137</td>\n",
       "      <td>10.445380</td>\n",
       "      <td>-9.859782</td>\n",
       "      <td>1.181590</td>\n",
       "      <td>0.620896</td>\n",
       "      <td>-0.091127</td>\n",
       "      <td>-4.014988</td>\n",
       "      <td>-10.069128</td>\n",
       "      <td>-0.030979</td>\n",
       "      <td>...</td>\n",
       "      <td>1.701077</td>\n",
       "      <td>-2.218032</td>\n",
       "      <td>8.227721</td>\n",
       "      <td>-2.382942</td>\n",
       "      <td>1.220523</td>\n",
       "      <td>-0.325793</td>\n",
       "      <td>0.217424</td>\n",
       "      <td>1.653794</td>\n",
       "      <td>-0.368597</td>\n",
       "      <td>1.301031</td>\n",
       "    </tr>\n",
       "  </tbody>\n",
       "</table>\n",
       "<p>3 rows × 1901 columns</p>\n",
       "</div>"
      ],
      "text/plain": [
       "                                           0         1          2         3  \\\n",
       "aaMutations                                                                   \n",
       "                                    0.621236  0.102030  10.404504 -9.851444   \n",
       "SA108D                              0.592396  0.122013  10.691099 -9.943564   \n",
       "SA108D:SN144D:SI186V:SM231T:SL234P  1.292319  0.360137  10.445380 -9.859782   \n",
       "\n",
       "                                           4         5         6         7  \\\n",
       "aaMutations                                                                  \n",
       "                                    0.681564  0.803212  0.554590 -3.610229   \n",
       "SA108D                              0.761884  0.857018  0.494301 -3.944474   \n",
       "SA108D:SN144D:SI186V:SM231T:SL234P  1.181590  0.620896 -0.091127 -4.014988   \n",
       "\n",
       "                                            8         9  ...      1891  \\\n",
       "aaMutations                                              ...             \n",
       "                                   -13.569923 -0.201451  ...  1.974337   \n",
       "SA108D                             -11.979288 -0.212918  ...  2.032164   \n",
       "SA108D:SN144D:SI186V:SM231T:SL234P -10.069128 -0.030979  ...  1.701077   \n",
       "\n",
       "                                        1892      1893      1894      1895  \\\n",
       "aaMutations                                                                  \n",
       "                                   -1.937303  8.058511 -2.392448  2.331100   \n",
       "SA108D                             -1.899304  7.547935 -2.495019  2.111458   \n",
       "SA108D:SN144D:SI186V:SM231T:SL234P -2.218032  8.227721 -2.382942  1.220523   \n",
       "\n",
       "                                        1896      1897      1898      1899  \\\n",
       "aaMutations                                                                  \n",
       "                                    0.566051  1.272536  0.719893 -1.457668   \n",
       "SA108D                              0.537725  0.898870  1.317870 -1.442424   \n",
       "SA108D:SN144D:SI186V:SM231T:SL234P -0.325793  0.217424  1.653794 -0.368597   \n",
       "\n",
       "                                    brightness  \n",
       "aaMutations                                     \n",
       "                                      3.719212  \n",
       "SA108D                                1.301030  \n",
       "SA108D:SN144D:SI186V:SM231T:SL234P    1.301031  \n",
       "\n",
       "[3 rows x 1901 columns]"
      ]
     },
     "execution_count": 24,
     "metadata": {},
     "output_type": "execute_result"
    }
   ],
   "source": [
    "df = pd.DataFrame.from_dict(dict(zip(data['h_avg'].index, data['h_avg'].values))).T\n",
    "df['brightness'] = data[\"medianBrightness\"].values\n",
    "df.set_index(data['aaMutations'], inplace=True)\n",
    "df.head(3)"
   ]
  },
  {
   "cell_type": "code",
   "execution_count": 25,
   "metadata": {},
   "outputs": [],
   "source": [
    "df_bnry = df.copy()\n",
    "df_bnry[\"brightness\"] = (df[\"brightness\"] < 2.5).astype(int)"
   ]
  },
  {
   "cell_type": "code",
   "execution_count": 26,
   "metadata": {},
   "outputs": [],
   "source": [
    "X, y = df_bnry.shuffle().get_features_targets(target_column_names=['brightness'])"
   ]
  },
  {
   "cell_type": "code",
   "execution_count": 27,
   "metadata": {},
   "outputs": [
    {
     "name": "stdout",
     "output_type": "stream",
     "text": [
      "(51715, 1900) (51715, 1)\n"
     ]
    }
   ],
   "source": [
    "print(X.shape, y.shape)"
   ]
  },
  {
   "cell_type": "markdown",
   "metadata": {},
   "source": [
    "# Training and Testing"
   ]
  },
  {
   "cell_type": "code",
   "execution_count": 28,
   "metadata": {},
   "outputs": [],
   "source": [
    "from sklearn.linear_model import LogisticRegression\n",
    "from sklearn.model_selection import cross_val_score, ShuffleSplit, cross_val_predict, KFold\n",
    "from sklearn import preprocessing"
   ]
  },
  {
   "cell_type": "markdown",
   "metadata": {},
   "source": [
    "### Logistic Regression on binary brightness"
   ]
  },
  {
   "cell_type": "code",
   "execution_count": 29,
   "metadata": {},
   "outputs": [],
   "source": [
    "X_pp = preprocessing.scale(X)"
   ]
  },
  {
   "cell_type": "code",
   "execution_count": 30,
   "metadata": {},
   "outputs": [],
   "source": [
    "logreg = LogisticRegression(max_iter=300)"
   ]
  },
  {
   "cell_type": "code",
   "execution_count": 31,
   "metadata": {},
   "outputs": [
    {
     "name": "stderr",
     "output_type": "stream",
     "text": [
      "/home/kummear1/anaconda/envs/jax-unirep-gfp/lib/python3.7/site-packages/sklearn/linear_model/_logistic.py:940: ConvergenceWarning: lbfgs failed to converge (status=1):\n",
      "STOP: TOTAL NO. of ITERATIONS REACHED LIMIT.\n",
      "\n",
      "Increase the number of iterations (max_iter) or scale the data as shown in:\n",
      "    https://scikit-learn.org/stable/modules/preprocessing.html\n",
      "Please also refer to the documentation for alternative solver options:\n",
      "    https://scikit-learn.org/stable/modules/linear_model.html#logistic-regression\n",
      "  extra_warning_msg=_LOGISTIC_SOLVER_CONVERGENCE_MSG)\n",
      "/home/kummear1/anaconda/envs/jax-unirep-gfp/lib/python3.7/site-packages/sklearn/linear_model/_logistic.py:940: ConvergenceWarning: lbfgs failed to converge (status=1):\n",
      "STOP: TOTAL NO. of ITERATIONS REACHED LIMIT.\n",
      "\n",
      "Increase the number of iterations (max_iter) or scale the data as shown in:\n",
      "    https://scikit-learn.org/stable/modules/preprocessing.html\n",
      "Please also refer to the documentation for alternative solver options:\n",
      "    https://scikit-learn.org/stable/modules/linear_model.html#logistic-regression\n",
      "  extra_warning_msg=_LOGISTIC_SOLVER_CONVERGENCE_MSG)\n",
      "/home/kummear1/anaconda/envs/jax-unirep-gfp/lib/python3.7/site-packages/sklearn/linear_model/_logistic.py:940: ConvergenceWarning: lbfgs failed to converge (status=1):\n",
      "STOP: TOTAL NO. of ITERATIONS REACHED LIMIT.\n",
      "\n",
      "Increase the number of iterations (max_iter) or scale the data as shown in:\n",
      "    https://scikit-learn.org/stable/modules/preprocessing.html\n",
      "Please also refer to the documentation for alternative solver options:\n",
      "    https://scikit-learn.org/stable/modules/linear_model.html#logistic-regression\n",
      "  extra_warning_msg=_LOGISTIC_SOLVER_CONVERGENCE_MSG)\n",
      "/home/kummear1/anaconda/envs/jax-unirep-gfp/lib/python3.7/site-packages/sklearn/linear_model/_logistic.py:940: ConvergenceWarning: lbfgs failed to converge (status=1):\n",
      "STOP: TOTAL NO. of ITERATIONS REACHED LIMIT.\n",
      "\n",
      "Increase the number of iterations (max_iter) or scale the data as shown in:\n",
      "    https://scikit-learn.org/stable/modules/preprocessing.html\n",
      "Please also refer to the documentation for alternative solver options:\n",
      "    https://scikit-learn.org/stable/modules/linear_model.html#logistic-regression\n",
      "  extra_warning_msg=_LOGISTIC_SOLVER_CONVERGENCE_MSG)\n",
      "/home/kummear1/anaconda/envs/jax-unirep-gfp/lib/python3.7/site-packages/sklearn/linear_model/_logistic.py:940: ConvergenceWarning: lbfgs failed to converge (status=1):\n",
      "STOP: TOTAL NO. of ITERATIONS REACHED LIMIT.\n",
      "\n",
      "Increase the number of iterations (max_iter) or scale the data as shown in:\n",
      "    https://scikit-learn.org/stable/modules/preprocessing.html\n",
      "Please also refer to the documentation for alternative solver options:\n",
      "    https://scikit-learn.org/stable/modules/linear_model.html#logistic-regression\n",
      "  extra_warning_msg=_LOGISTIC_SOLVER_CONVERGENCE_MSG)\n",
      "/home/kummear1/anaconda/envs/jax-unirep-gfp/lib/python3.7/site-packages/sklearn/linear_model/_logistic.py:940: ConvergenceWarning: lbfgs failed to converge (status=1):\n",
      "STOP: TOTAL NO. of ITERATIONS REACHED LIMIT.\n",
      "\n",
      "Increase the number of iterations (max_iter) or scale the data as shown in:\n",
      "    https://scikit-learn.org/stable/modules/preprocessing.html\n",
      "Please also refer to the documentation for alternative solver options:\n",
      "    https://scikit-learn.org/stable/modules/linear_model.html#logistic-regression\n",
      "  extra_warning_msg=_LOGISTIC_SOLVER_CONVERGENCE_MSG)\n",
      "/home/kummear1/anaconda/envs/jax-unirep-gfp/lib/python3.7/site-packages/sklearn/linear_model/_logistic.py:940: ConvergenceWarning: lbfgs failed to converge (status=1):\n",
      "STOP: TOTAL NO. of ITERATIONS REACHED LIMIT.\n",
      "\n",
      "Increase the number of iterations (max_iter) or scale the data as shown in:\n",
      "    https://scikit-learn.org/stable/modules/preprocessing.html\n",
      "Please also refer to the documentation for alternative solver options:\n",
      "    https://scikit-learn.org/stable/modules/linear_model.html#logistic-regression\n",
      "  extra_warning_msg=_LOGISTIC_SOLVER_CONVERGENCE_MSG)\n",
      "/home/kummear1/anaconda/envs/jax-unirep-gfp/lib/python3.7/site-packages/sklearn/linear_model/_logistic.py:940: ConvergenceWarning: lbfgs failed to converge (status=1):\n",
      "STOP: TOTAL NO. of ITERATIONS REACHED LIMIT.\n",
      "\n",
      "Increase the number of iterations (max_iter) or scale the data as shown in:\n",
      "    https://scikit-learn.org/stable/modules/preprocessing.html\n",
      "Please also refer to the documentation for alternative solver options:\n",
      "    https://scikit-learn.org/stable/modules/linear_model.html#logistic-regression\n",
      "  extra_warning_msg=_LOGISTIC_SOLVER_CONVERGENCE_MSG)\n",
      "/home/kummear1/anaconda/envs/jax-unirep-gfp/lib/python3.7/site-packages/sklearn/linear_model/_logistic.py:940: ConvergenceWarning: lbfgs failed to converge (status=1):\n",
      "STOP: TOTAL NO. of ITERATIONS REACHED LIMIT.\n",
      "\n",
      "Increase the number of iterations (max_iter) or scale the data as shown in:\n",
      "    https://scikit-learn.org/stable/modules/preprocessing.html\n",
      "Please also refer to the documentation for alternative solver options:\n",
      "    https://scikit-learn.org/stable/modules/linear_model.html#logistic-regression\n",
      "  extra_warning_msg=_LOGISTIC_SOLVER_CONVERGENCE_MSG)\n",
      "/home/kummear1/anaconda/envs/jax-unirep-gfp/lib/python3.7/site-packages/sklearn/linear_model/_logistic.py:940: ConvergenceWarning: lbfgs failed to converge (status=1):\n",
      "STOP: TOTAL NO. of ITERATIONS REACHED LIMIT.\n",
      "\n",
      "Increase the number of iterations (max_iter) or scale the data as shown in:\n",
      "    https://scikit-learn.org/stable/modules/preprocessing.html\n",
      "Please also refer to the documentation for alternative solver options:\n",
      "    https://scikit-learn.org/stable/modules/linear_model.html#logistic-regression\n",
      "  extra_warning_msg=_LOGISTIC_SOLVER_CONVERGENCE_MSG)\n"
     ]
    }
   ],
   "source": [
    "# with paLogisticRegressionlel_backend(\"dask\"):\n",
    "cv = KFold(n_splits=5)\n",
    "scores = cross_val_score(logreg, X_pp, y.values.ravel(), cv=cv, scoring='accuracy')\n",
    "preds = cross_val_predict(logreg, X_pp, y.values.ravel(), cv=cv)"
   ]
  },
  {
   "cell_type": "code",
   "execution_count": 32,
   "metadata": {},
   "outputs": [
    {
     "data": {
      "text/plain": [
       "array([0.89751523, 0.88958716, 0.89712849, 0.89538819, 0.90070579])"
      ]
     },
     "execution_count": 32,
     "metadata": {},
     "output_type": "execute_result"
    }
   ],
   "source": [
    "scores"
   ]
  },
  {
   "cell_type": "code",
   "execution_count": 33,
   "metadata": {},
   "outputs": [
    {
     "data": {
      "text/plain": [
       "0.8960649714782946"
      ]
     },
     "execution_count": 33,
     "metadata": {},
     "output_type": "execute_result"
    }
   ],
   "source": [
    "scores.mean()"
   ]
  },
  {
   "cell_type": "code",
   "execution_count": 34,
   "metadata": {},
   "outputs": [],
   "source": [
    "from sklearn.metrics import confusion_matrix"
   ]
  },
  {
   "cell_type": "code",
   "execution_count": 35,
   "metadata": {},
   "outputs": [],
   "source": [
    "labels = [0, 1]\n",
    "cm = confusion_matrix(y, preds, labels)\n",
    "cm = cm.astype('float') / cm.sum(axis=1)[:, np.newaxis]"
   ]
  },
  {
   "cell_type": "code",
   "execution_count": 36,
   "metadata": {},
   "outputs": [
    {
     "data": {
      "text/plain": [
       "array([[0.93179779, 0.06820221],\n",
       "       [0.15364343, 0.84635657]])"
      ]
     },
     "execution_count": 36,
     "metadata": {},
     "output_type": "execute_result"
    }
   ],
   "source": [
    "cm"
   ]
  },
  {
   "cell_type": "code",
   "execution_count": 37,
   "metadata": {},
   "outputs": [],
   "source": [
    "classes = [\"Dark\", \"Bright\"]"
   ]
  },
  {
   "cell_type": "code",
   "execution_count": 40,
   "metadata": {},
   "outputs": [
    {
     "data": {
      "image/png": "[encoded data removed]",
      "text/plain": [
       "<Figure size 864x432 with 2 Axes>"
      ]
     },
     "metadata": {},
     "output_type": "display_data"
    }
   ],
   "source": [
    "fig, (ax1, ax2) = plt.subplots(figsize=(12, 6), nrows=1, ncols=2)\n",
    "\n",
    "sns.distplot(data[\"medianBrightness\"], ax=ax1)\n",
    "ax1.axvline(x=2.5, c=\"r\", ls=\"--\", lw=2)\n",
    "ax1.set(xlabel=\"median Brightness\", ylabel=\"value\")\n",
    "sns.despine()\n",
    "\n",
    "df_cm = pd.DataFrame(\n",
    "    cm, index=classes, columns=classes, \n",
    ")\n",
    "\n",
    "heatmap = sns.heatmap(df_cm, \n",
    "                      annot=True, \n",
    "                      fmt=\".2f\", \n",
    "                      cmap=\"Blues\",\n",
    "                      cbar=False,\n",
    "                      ax=ax2\n",
    "                     )\n",
    "\n",
    "ax2.set_yticklabels(heatmap.yaxis.get_ticklabels(), rotation=90, fontsize=14)\n",
    "ax2.set_xticklabels(heatmap.xaxis.get_ticklabels(), rotation=0, fontsize=14)\n",
    "ax2.set_ylabel('True label')\n",
    "ax2.set_xlabel('Predicted label')\n",
    "plt.savefig(\"figures/top_model.png\", bbox_inches='tight', dpi=200)"
   ]
  },
  {
   "cell_type": "code",
   "execution_count": null,
   "metadata": {},
   "outputs": [],
   "source": []
  }
 ],
 "metadata": {
  "kernelspec": {
   "display_name": "jax-unirep-gfp",
   "language": "python",
   "name": "jax-unirep-gfp"
  },
  "language_info": {
   "codemirror_mode": {
    "name": "ipython",
    "version": 3
   },
   "file_extension": ".py",
   "mimetype": "text/x-python",
   "name": "python",
   "nbconvert_exporter": "python",
   "pygments_lexer": "ipython3",
   "version": "3.7.8"
  }
 },
 "nbformat": 4,
 "nbformat_minor": 4
}
