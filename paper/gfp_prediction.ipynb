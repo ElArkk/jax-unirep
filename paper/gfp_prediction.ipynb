{
 "cells": [
  {
   "cell_type": "code",
   "execution_count": 1,
   "metadata": {},
   "outputs": [],
   "source": [
    "import numpy as np\n",
    "import pandas as pd\n",
    "import janitor\n",
    "\n",
    "from functools import partial"
   ]
  },
  {
   "cell_type": "code",
   "execution_count": 2,
   "metadata": {},
   "outputs": [],
   "source": [
    "wt =\"SKGEELFTGVVPILVELDGDVNGHKFSVSGEGEGDATYGKLTLKFICTTGKLPVPWPTLVTTLSYGVQCFSRYPDHMKQHDFFKSAMPEGYVQERTIFFKDDGNYKTRAEVKFEGDTLVNRIELKGIDFKEDGNILGHKLEYNYNSHNVYIMADKQKNGIKVNFKIRHNIEDGSVQLADHYQQNTPIGDGPVLLPDNHYLSTQSALSKDPNEKRDHMVLLEFVTAAGITHGMDELYK\""
   ]
  },
  {
   "cell_type": "code",
   "execution_count": 3,
   "metadata": {},
   "outputs": [],
   "source": [
    "def aa_pos(mut):\n",
    "    \"\"\"\n",
    "    Return mutation position from mutation string.\n",
    "\n",
    "    Example: A111C -> 111\n",
    "    \"\"\"\n",
    "    if not mut:\n",
    "        return mut\n",
    "    else:\n",
    "        return int(mut[2:-1])\n",
    "\n",
    "\n",
    "def aa_letter(mut):\n",
    "    \"\"\"\n",
    "    Return mutation letter from mutation string.\n",
    "\n",
    "    Example: A111C -> C\n",
    "    \"\"\"\n",
    "    if not mut:\n",
    "        return mut\n",
    "    else:\n",
    "        return mut[-1]\n",
    "\n",
    "\n",
    "def mut2seq(mutation_string, wt_sequence, delimiter=\":\"):\n",
    "    \"\"\"\n",
    "    Reconstruct full mutant sequence given mutation string.\n",
    "\n",
    "    Example mutation_strings:\n",
    "    - A111C\n",
    "    - A111T; V130A\n",
    "    - A111T; Q194R; N249I; N251Y; H255Y\n",
    "    \"\"\"\n",
    "    if mutation_string is None or mutation_string == \"\":\n",
    "        return wt_sequence\n",
    "\n",
    "    mutations = mutation_string.split(delimiter)\n",
    "    mutant_sequence = list(wt_sequence)  # mutant_sequence is a list\n",
    "    for mut in mutations:\n",
    "        position = aa_pos(mut)\n",
    "        letter = aa_letter(mut)\n",
    "        if position == 0:\n",
    "            raise ValueError(\n",
    "                f\"\"\"\n",
    "            The mutation string {mut} is invalid.\n",
    "            It has \"0\" as its position.\n",
    "            \"\"\"\n",
    "            )\n",
    "        if position > len(wt_sequence):\n",
    "            raise ValueError(\n",
    "                f\"\"\"\n",
    "            The mutation string {mut} is invalid.\n",
    "            Its position is greater than the length of the WT sequence.\n",
    "            \"\"\"\n",
    "            )\n",
    "        mutant_sequence[\n",
    "            position #- 1\n",
    "        ] = letter  # -1 is necessary because the list is zero-indexed\n",
    "    return \"\".join(l for l in mutant_sequence)"
   ]
  },
  {
   "cell_type": "code",
   "execution_count": 4,
   "metadata": {},
   "outputs": [],
   "source": [
    "def count_mutations(x):\n",
    "    if x == '':\n",
    "        return 0\n",
    "    else:\n",
    "        return len(x.split(\":\"))\n"
   ]
  },
  {
   "cell_type": "code",
   "execution_count": 5,
   "metadata": {},
   "outputs": [],
   "source": [
    "mut2gfp = partial(mut2seq, wt_sequence=wt)"
   ]
  },
  {
   "cell_type": "markdown",
   "metadata": {},
   "source": [
    "## Prepare data"
   ]
  },
  {
   "cell_type": "code",
   "execution_count": 6,
   "metadata": {},
   "outputs": [],
   "source": [
    "data = (pd.read_csv(\"data/amino_acid_genotypes_to_brightness.tsv\", sep='\\t')\n",
    "        .fill_empty(\"aaMutations\", \"\")\n",
    "        .filter_string(\"aaMutations\", search_string=\"\\*\", complement=True)\n",
    "        .transform_column(\"aaMutations\", mut2gfp, \"sequence\")\n",
    "        .transform_column(\"medianBrightness\", lambda x: np.log(x), \"log_bright\")\n",
    "        .transform_column(\"sequence\", lambda x: len(x), \"length\")\n",
    "        .transform_column(\"aaMutations\", count_mutations, \"mutation_count\")\n",
    "       )"
   ]
  },
  {
   "cell_type": "code",
   "execution_count": 7,
   "metadata": {},
   "outputs": [
    {
     "data": {
      "text/html": [
       "<div>\n",
       "<style scoped>\n",
       "    .dataframe tbody tr th:only-of-type {\n",
       "        vertical-align: middle;\n",
       "    }\n",
       "\n",
       "    .dataframe tbody tr th {\n",
       "        vertical-align: top;\n",
       "    }\n",
       "\n",
       "    .dataframe thead th {\n",
       "        text-align: right;\n",
       "    }\n",
       "</style>\n",
       "<table border=\"1\" class=\"dataframe\">\n",
       "  <thead>\n",
       "    <tr style=\"text-align: right;\">\n",
       "      <th></th>\n",
       "      <th>aaMutations</th>\n",
       "      <th>uniqueBarcodes</th>\n",
       "      <th>medianBrightness</th>\n",
       "      <th>std</th>\n",
       "      <th>sequence</th>\n",
       "      <th>log_bright</th>\n",
       "      <th>length</th>\n",
       "      <th>mutation_count</th>\n",
       "    </tr>\n",
       "  </thead>\n",
       "  <tbody>\n",
       "    <tr>\n",
       "      <th>0</th>\n",
       "      <td></td>\n",
       "      <td>3645</td>\n",
       "      <td>3.719212</td>\n",
       "      <td>0.106992</td>\n",
       "      <td>SKGEELFTGVVPILVELDGDVNGHKFSVSGEGEGDATYGKLTLKFI...</td>\n",
       "      <td>1.313512</td>\n",
       "      <td>237</td>\n",
       "      <td>0</td>\n",
       "    </tr>\n",
       "    <tr>\n",
       "      <th>1</th>\n",
       "      <td>SA108D</td>\n",
       "      <td>1</td>\n",
       "      <td>1.301030</td>\n",
       "      <td>NaN</td>\n",
       "      <td>SKGEELFTGVVPILVELDGDVNGHKFSVSGEGEGDATYGKLTLKFI...</td>\n",
       "      <td>0.263156</td>\n",
       "      <td>237</td>\n",
       "      <td>1</td>\n",
       "    </tr>\n",
       "    <tr>\n",
       "      <th>2</th>\n",
       "      <td>SA108D:SN144D:SI186V:SM231T:SL234P</td>\n",
       "      <td>1</td>\n",
       "      <td>1.301031</td>\n",
       "      <td>NaN</td>\n",
       "      <td>SKGEELFTGVVPILVELDGDVNGHKFSVSGEGEGDATYGKLTLKFI...</td>\n",
       "      <td>0.263157</td>\n",
       "      <td>237</td>\n",
       "      <td>5</td>\n",
       "    </tr>\n",
       "  </tbody>\n",
       "</table>\n",
       "</div>"
      ],
      "text/plain": [
       "                          aaMutations  uniqueBarcodes  medianBrightness  \\\n",
       "0                                                3645          3.719212   \n",
       "1                              SA108D               1          1.301030   \n",
       "2  SA108D:SN144D:SI186V:SM231T:SL234P               1          1.301031   \n",
       "\n",
       "        std                                           sequence  log_bright  \\\n",
       "0  0.106992  SKGEELFTGVVPILVELDGDVNGHKFSVSGEGEGDATYGKLTLKFI...    1.313512   \n",
       "1       NaN  SKGEELFTGVVPILVELDGDVNGHKFSVSGEGEGDATYGKLTLKFI...    0.263156   \n",
       "2       NaN  SKGEELFTGVVPILVELDGDVNGHKFSVSGEGEGDATYGKLTLKFI...    0.263157   \n",
       "\n",
       "   length  mutation_count  \n",
       "0     237               0  \n",
       "1     237               1  \n",
       "2     237               5  "
      ]
     },
     "execution_count": 7,
     "metadata": {},
     "output_type": "execute_result"
    }
   ],
   "source": [
    "data.head(3)"
   ]
  },
  {
   "cell_type": "code",
   "execution_count": 36,
   "metadata": {},
   "outputs": [
    {
     "data": {
      "text/html": [
       "<div>\n",
       "<style scoped>\n",
       "    .dataframe tbody tr th:only-of-type {\n",
       "        vertical-align: middle;\n",
       "    }\n",
       "\n",
       "    .dataframe tbody tr th {\n",
       "        vertical-align: top;\n",
       "    }\n",
       "\n",
       "    .dataframe thead th {\n",
       "        text-align: right;\n",
       "    }\n",
       "</style>\n",
       "<table border=\"1\" class=\"dataframe\">\n",
       "  <thead>\n",
       "    <tr style=\"text-align: right;\">\n",
       "      <th></th>\n",
       "      <th>aaMutations</th>\n",
       "      <th>uniqueBarcodes</th>\n",
       "      <th>medianBrightness</th>\n",
       "      <th>std</th>\n",
       "      <th>sequence</th>\n",
       "      <th>log_bright</th>\n",
       "      <th>length</th>\n",
       "      <th>mutation_count</th>\n",
       "      <th>h_avg</th>\n",
       "      <th>h_final</th>\n",
       "      <th>c_final</th>\n",
       "      <th>unirep_fusion</th>\n",
       "    </tr>\n",
       "  </thead>\n",
       "  <tbody>\n",
       "    <tr>\n",
       "      <th>16351</th>\n",
       "      <td>SG2A</td>\n",
       "      <td>2</td>\n",
       "      <td>3.818888</td>\n",
       "      <td>0.119126</td>\n",
       "      <td>SKAEELFTGVVPILVELDGDVNGHKFSVSGEGEGDATYGKLTLKFI...</td>\n",
       "      <td>1.339959</td>\n",
       "      <td>237</td>\n",
       "      <td>1</td>\n",
       "      <td>[0.8270660638809204, 0.19173550605773926, 10.1...</td>\n",
       "      <td>[0.005279474891722202, -0.05013052374124527, 0...</td>\n",
       "      <td>[0.0007955856272019446, 0.02143683284521103, 0...</td>\n",
       "      <td>[0.005279474891722202, -0.05013052374124527, 0...</td>\n",
       "    </tr>\n",
       "  </tbody>\n",
       "</table>\n",
       "</div>"
      ],
      "text/plain": [
       "      aaMutations  uniqueBarcodes  medianBrightness       std  \\\n",
       "16351        SG2A               2          3.818888  0.119126   \n",
       "\n",
       "                                                sequence  log_bright  length  \\\n",
       "16351  SKAEELFTGVVPILVELDGDVNGHKFSVSGEGEGDATYGKLTLKFI...    1.339959     237   \n",
       "\n",
       "       mutation_count                                              h_avg  \\\n",
       "16351               1  [0.8270660638809204, 0.19173550605773926, 10.1...   \n",
       "\n",
       "                                                 h_final  \\\n",
       "16351  [0.005279474891722202, -0.05013052374124527, 0...   \n",
       "\n",
       "                                                 c_final  \\\n",
       "16351  [0.0007955856272019446, 0.02143683284521103, 0...   \n",
       "\n",
       "                                           unirep_fusion  \n",
       "16351  [0.005279474891722202, -0.05013052374124527, 0...  "
      ]
     },
     "execution_count": 36,
     "metadata": {},
     "output_type": "execute_result"
    }
   ],
   "source": [
    "data.query(\"aaMutations.str.contains(r'[A-Z]2[A-Z]')\").head(1)"
   ]
  },
  {
   "cell_type": "code",
   "execution_count": 9,
   "metadata": {},
   "outputs": [
    {
     "data": {
      "text/plain": [
       "array([ 0,  1,  5,  4,  2,  6,  3,  7,  8, 11, 12, 10,  9, 13, 14, 15])"
      ]
     },
     "execution_count": 9,
     "metadata": {},
     "output_type": "execute_result"
    }
   ],
   "source": [
    "data.mutation_count.unique()"
   ]
  },
  {
   "cell_type": "code",
   "execution_count": 10,
   "metadata": {},
   "outputs": [
    {
     "data": {
      "text/plain": [
       "array([237])"
      ]
     },
     "execution_count": 10,
     "metadata": {},
     "output_type": "execute_result"
    }
   ],
   "source": [
    "data.length.unique()"
   ]
  },
  {
   "cell_type": "markdown",
   "metadata": {},
   "source": [
    "## Get reps"
   ]
  },
  {
   "cell_type": "code",
   "execution_count": 11,
   "metadata": {},
   "outputs": [
    {
     "name": "stderr",
     "output_type": "stream",
     "text": [
      "/Users/kummear1/anaconda/envs/genesis/lib/python3.7/site-packages/jax/lib/xla_bridge.py:127: UserWarning:\n",
      "\n",
      "No GPU/TPU found, falling back to CPU.\n",
      "\n"
     ]
    }
   ],
   "source": [
    "from jax_unirep import get_reps"
   ]
  },
  {
   "cell_type": "code",
   "execution_count": 12,
   "metadata": {},
   "outputs": [],
   "source": [
    "h_final1, c_final1, h_avg1 = get_reps(data.sequence.values[:10000])\n",
    "h_final2, c_final2, h_avg2 = get_reps(data.sequence.values[10000:20000])\n",
    "h_final3, c_final3, h_avg3 = get_reps(data.sequence.values[20000:30000])\n",
    "h_final4, c_final4, h_avg4 = get_reps(data.sequence.values[30000:40000])\n",
    "h_final5, c_final5, h_avg5 = get_reps(data.sequence.values[40000:])"
   ]
  },
  {
   "cell_type": "code",
   "execution_count": 13,
   "metadata": {},
   "outputs": [
    {
     "data": {
      "text/plain": [
       "(10000, 1900)"
      ]
     },
     "execution_count": 13,
     "metadata": {},
     "output_type": "execute_result"
    }
   ],
   "source": [
    "h_avg1.shape"
   ]
  },
  {
   "cell_type": "code",
   "execution_count": 14,
   "metadata": {},
   "outputs": [],
   "source": [
    "h_final = np.concatenate((h_final1, h_final2, h_final3, h_final4, h_final5), axis=0)\n",
    "c_final = np.concatenate((c_final1, c_final2, c_final3, c_final4, c_final5), axis=0)\n",
    "h_avg = np.concatenate((h_avg1, h_avg2, h_avg3, h_avg4, h_avg5), axis=0)"
   ]
  },
  {
   "cell_type": "code",
   "execution_count": 15,
   "metadata": {},
   "outputs": [],
   "source": [
    "data[\"h_avg\"] = h_avg.tolist()\n",
    "data[\"h_final\"] = h_final.tolist()\n",
    "data[\"c_final\"] = c_final.tolist()"
   ]
  },
  {
   "cell_type": "code",
   "execution_count": 16,
   "metadata": {},
   "outputs": [],
   "source": [
    "def fusion(x):\n",
    "    return np.concatenate((x.h_final,x.c_final, x.h_avg))"
   ]
  },
  {
   "cell_type": "code",
   "execution_count": 17,
   "metadata": {},
   "outputs": [],
   "source": [
    "data = data.join_apply(fusion, \"unirep_fusion\")"
   ]
  },
  {
   "cell_type": "code",
   "execution_count": 18,
   "metadata": {},
   "outputs": [
    {
     "data": {
      "text/html": [
       "<div>\n",
       "<style scoped>\n",
       "    .dataframe tbody tr th:only-of-type {\n",
       "        vertical-align: middle;\n",
       "    }\n",
       "\n",
       "    .dataframe tbody tr th {\n",
       "        vertical-align: top;\n",
       "    }\n",
       "\n",
       "    .dataframe thead th {\n",
       "        text-align: right;\n",
       "    }\n",
       "</style>\n",
       "<table border=\"1\" class=\"dataframe\">\n",
       "  <thead>\n",
       "    <tr style=\"text-align: right;\">\n",
       "      <th></th>\n",
       "      <th>aaMutations</th>\n",
       "      <th>uniqueBarcodes</th>\n",
       "      <th>medianBrightness</th>\n",
       "      <th>std</th>\n",
       "      <th>sequence</th>\n",
       "      <th>log_bright</th>\n",
       "      <th>length</th>\n",
       "      <th>mutation_count</th>\n",
       "      <th>h_avg</th>\n",
       "      <th>h_final</th>\n",
       "      <th>c_final</th>\n",
       "      <th>unirep_fusion</th>\n",
       "    </tr>\n",
       "  </thead>\n",
       "  <tbody>\n",
       "    <tr>\n",
       "      <th>0</th>\n",
       "      <td></td>\n",
       "      <td>3645</td>\n",
       "      <td>3.719212</td>\n",
       "      <td>0.106992</td>\n",
       "      <td>SKGEELFTGVVPILVELDGDVNGHKFSVSGEGEGDATYGKLTLKFI...</td>\n",
       "      <td>1.313512</td>\n",
       "      <td>237</td>\n",
       "      <td>0</td>\n",
       "      <td>[0.6212358474731445, 0.10203029960393906, 10.4...</td>\n",
       "      <td>[0.0052763549610972404, -0.0479130856692791, 0...</td>\n",
       "      <td>[0.0008092823554761708, 0.013940938748419285, ...</td>\n",
       "      <td>[0.0052763549610972404, -0.0479130856692791, 0...</td>\n",
       "    </tr>\n",
       "    <tr>\n",
       "      <th>1</th>\n",
       "      <td>SA108D</td>\n",
       "      <td>1</td>\n",
       "      <td>1.301030</td>\n",
       "      <td>NaN</td>\n",
       "      <td>SKGEELFTGVVPILVELDGDVNGHKFSVSGEGEGDATYGKLTLKFI...</td>\n",
       "      <td>0.263156</td>\n",
       "      <td>237</td>\n",
       "      <td>1</td>\n",
       "      <td>[0.5923978090286255, 0.12201351672410965, 10.6...</td>\n",
       "      <td>[0.00533563457429409, -0.049146752804517746, 0...</td>\n",
       "      <td>[0.0006889709620736539, 0.0212150476872921, 0....</td>\n",
       "      <td>[0.00533563457429409, -0.049146752804517746, 0...</td>\n",
       "    </tr>\n",
       "    <tr>\n",
       "      <th>2</th>\n",
       "      <td>SA108D:SN144D:SI186V:SM231T:SL234P</td>\n",
       "      <td>1</td>\n",
       "      <td>1.301031</td>\n",
       "      <td>NaN</td>\n",
       "      <td>SKGEELFTGVVPILVELDGDVNGHKFSVSGEGEGDATYGKLTLKFI...</td>\n",
       "      <td>0.263157</td>\n",
       "      <td>237</td>\n",
       "      <td>5</td>\n",
       "      <td>[1.2923177480697632, 0.3601369857788086, 10.44...</td>\n",
       "      <td>[0.0052352058701217175, -0.05025510489940643, ...</td>\n",
       "      <td>[0.0010605398565530777, 0.06153016909956932, 0...</td>\n",
       "      <td>[0.0052352058701217175, -0.05025510489940643, ...</td>\n",
       "    </tr>\n",
       "  </tbody>\n",
       "</table>\n",
       "</div>"
      ],
      "text/plain": [
       "                          aaMutations  uniqueBarcodes  medianBrightness  \\\n",
       "0                                                3645          3.719212   \n",
       "1                              SA108D               1          1.301030   \n",
       "2  SA108D:SN144D:SI186V:SM231T:SL234P               1          1.301031   \n",
       "\n",
       "        std                                           sequence  log_bright  \\\n",
       "0  0.106992  SKGEELFTGVVPILVELDGDVNGHKFSVSGEGEGDATYGKLTLKFI...    1.313512   \n",
       "1       NaN  SKGEELFTGVVPILVELDGDVNGHKFSVSGEGEGDATYGKLTLKFI...    0.263156   \n",
       "2       NaN  SKGEELFTGVVPILVELDGDVNGHKFSVSGEGEGDATYGKLTLKFI...    0.263157   \n",
       "\n",
       "   length  mutation_count                                              h_avg  \\\n",
       "0     237               0  [0.6212358474731445, 0.10203029960393906, 10.4...   \n",
       "1     237               1  [0.5923978090286255, 0.12201351672410965, 10.6...   \n",
       "2     237               5  [1.2923177480697632, 0.3601369857788086, 10.44...   \n",
       "\n",
       "                                             h_final  \\\n",
       "0  [0.0052763549610972404, -0.0479130856692791, 0...   \n",
       "1  [0.00533563457429409, -0.049146752804517746, 0...   \n",
       "2  [0.0052352058701217175, -0.05025510489940643, ...   \n",
       "\n",
       "                                             c_final  \\\n",
       "0  [0.0008092823554761708, 0.013940938748419285, ...   \n",
       "1  [0.0006889709620736539, 0.0212150476872921, 0....   \n",
       "2  [0.0010605398565530777, 0.06153016909956932, 0...   \n",
       "\n",
       "                                       unirep_fusion  \n",
       "0  [0.0052763549610972404, -0.0479130856692791, 0...  \n",
       "1  [0.00533563457429409, -0.049146752804517746, 0...  \n",
       "2  [0.0052352058701217175, -0.05025510489940643, ...  "
      ]
     },
     "execution_count": 18,
     "metadata": {},
     "output_type": "execute_result"
    }
   ],
   "source": [
    "data.head(3)"
   ]
  },
  {
   "cell_type": "code",
   "execution_count": 19,
   "metadata": {},
   "outputs": [],
   "source": [
    "import matplotlib.pyplot as plt\n",
    "import seaborn as sns"
   ]
  },
  {
   "cell_type": "code",
   "execution_count": 20,
   "metadata": {},
   "outputs": [],
   "source": [
    "sns.set_style(\"white\")\n",
    "sns.set_context(context=\"paper\", font_scale=1.5)"
   ]
  },
  {
   "cell_type": "code",
   "execution_count": 21,
   "metadata": {},
   "outputs": [
    {
     "data": {
      "text/html": [
       "<div>\n",
       "<style scoped>\n",
       "    .dataframe tbody tr th:only-of-type {\n",
       "        vertical-align: middle;\n",
       "    }\n",
       "\n",
       "    .dataframe tbody tr th {\n",
       "        vertical-align: top;\n",
       "    }\n",
       "\n",
       "    .dataframe thead th {\n",
       "        text-align: right;\n",
       "    }\n",
       "</style>\n",
       "<table border=\"1\" class=\"dataframe\">\n",
       "  <thead>\n",
       "    <tr style=\"text-align: right;\">\n",
       "      <th></th>\n",
       "      <th>0</th>\n",
       "      <th>1</th>\n",
       "      <th>2</th>\n",
       "      <th>3</th>\n",
       "      <th>4</th>\n",
       "      <th>5</th>\n",
       "      <th>6</th>\n",
       "      <th>7</th>\n",
       "      <th>8</th>\n",
       "      <th>9</th>\n",
       "      <th>...</th>\n",
       "      <th>1891</th>\n",
       "      <th>1892</th>\n",
       "      <th>1893</th>\n",
       "      <th>1894</th>\n",
       "      <th>1895</th>\n",
       "      <th>1896</th>\n",
       "      <th>1897</th>\n",
       "      <th>1898</th>\n",
       "      <th>1899</th>\n",
       "      <th>brightness</th>\n",
       "    </tr>\n",
       "    <tr>\n",
       "      <th>aaMutations</th>\n",
       "      <th></th>\n",
       "      <th></th>\n",
       "      <th></th>\n",
       "      <th></th>\n",
       "      <th></th>\n",
       "      <th></th>\n",
       "      <th></th>\n",
       "      <th></th>\n",
       "      <th></th>\n",
       "      <th></th>\n",
       "      <th></th>\n",
       "      <th></th>\n",
       "      <th></th>\n",
       "      <th></th>\n",
       "      <th></th>\n",
       "      <th></th>\n",
       "      <th></th>\n",
       "      <th></th>\n",
       "      <th></th>\n",
       "      <th></th>\n",
       "      <th></th>\n",
       "    </tr>\n",
       "  </thead>\n",
       "  <tbody>\n",
       "    <tr>\n",
       "      <th></th>\n",
       "      <td>0.621236</td>\n",
       "      <td>0.102030</td>\n",
       "      <td>10.404503</td>\n",
       "      <td>-9.851440</td>\n",
       "      <td>0.681565</td>\n",
       "      <td>0.803211</td>\n",
       "      <td>0.554590</td>\n",
       "      <td>-3.610229</td>\n",
       "      <td>-13.569917</td>\n",
       "      <td>-0.201451</td>\n",
       "      <td>...</td>\n",
       "      <td>1.974337</td>\n",
       "      <td>-1.937304</td>\n",
       "      <td>8.058512</td>\n",
       "      <td>-2.392447</td>\n",
       "      <td>2.331100</td>\n",
       "      <td>0.566051</td>\n",
       "      <td>1.272536</td>\n",
       "      <td>0.719894</td>\n",
       "      <td>-1.457669</td>\n",
       "      <td>3.719212</td>\n",
       "    </tr>\n",
       "    <tr>\n",
       "      <th>SA108D</th>\n",
       "      <td>0.592398</td>\n",
       "      <td>0.122014</td>\n",
       "      <td>10.691105</td>\n",
       "      <td>-9.943570</td>\n",
       "      <td>0.761884</td>\n",
       "      <td>0.857018</td>\n",
       "      <td>0.494300</td>\n",
       "      <td>-3.944473</td>\n",
       "      <td>-11.979290</td>\n",
       "      <td>-0.212918</td>\n",
       "      <td>...</td>\n",
       "      <td>2.032164</td>\n",
       "      <td>-1.899305</td>\n",
       "      <td>7.547936</td>\n",
       "      <td>-2.495020</td>\n",
       "      <td>2.111457</td>\n",
       "      <td>0.537725</td>\n",
       "      <td>0.898869</td>\n",
       "      <td>1.317873</td>\n",
       "      <td>-1.442424</td>\n",
       "      <td>1.301030</td>\n",
       "    </tr>\n",
       "    <tr>\n",
       "      <th>SA108D:SN144D:SI186V:SM231T:SL234P</th>\n",
       "      <td>1.292318</td>\n",
       "      <td>0.360137</td>\n",
       "      <td>10.445379</td>\n",
       "      <td>-9.859786</td>\n",
       "      <td>1.181589</td>\n",
       "      <td>0.620896</td>\n",
       "      <td>-0.091126</td>\n",
       "      <td>-4.014987</td>\n",
       "      <td>-10.069127</td>\n",
       "      <td>-0.030978</td>\n",
       "      <td>...</td>\n",
       "      <td>1.701076</td>\n",
       "      <td>-2.218031</td>\n",
       "      <td>8.227721</td>\n",
       "      <td>-2.382941</td>\n",
       "      <td>1.220523</td>\n",
       "      <td>-0.325793</td>\n",
       "      <td>0.217425</td>\n",
       "      <td>1.653794</td>\n",
       "      <td>-0.368597</td>\n",
       "      <td>1.301031</td>\n",
       "    </tr>\n",
       "  </tbody>\n",
       "</table>\n",
       "<p>3 rows × 1901 columns</p>\n",
       "</div>"
      ],
      "text/plain": [
       "                                           0         1          2         3  \\\n",
       "aaMutations                                                                   \n",
       "                                    0.621236  0.102030  10.404503 -9.851440   \n",
       "SA108D                              0.592398  0.122014  10.691105 -9.943570   \n",
       "SA108D:SN144D:SI186V:SM231T:SL234P  1.292318  0.360137  10.445379 -9.859786   \n",
       "\n",
       "                                           4         5         6         7  \\\n",
       "aaMutations                                                                  \n",
       "                                    0.681565  0.803211  0.554590 -3.610229   \n",
       "SA108D                              0.761884  0.857018  0.494300 -3.944473   \n",
       "SA108D:SN144D:SI186V:SM231T:SL234P  1.181589  0.620896 -0.091126 -4.014987   \n",
       "\n",
       "                                            8         9  ...      1891  \\\n",
       "aaMutations                                              ...             \n",
       "                                   -13.569917 -0.201451  ...  1.974337   \n",
       "SA108D                             -11.979290 -0.212918  ...  2.032164   \n",
       "SA108D:SN144D:SI186V:SM231T:SL234P -10.069127 -0.030978  ...  1.701076   \n",
       "\n",
       "                                        1892      1893      1894      1895  \\\n",
       "aaMutations                                                                  \n",
       "                                   -1.937304  8.058512 -2.392447  2.331100   \n",
       "SA108D                             -1.899305  7.547936 -2.495020  2.111457   \n",
       "SA108D:SN144D:SI186V:SM231T:SL234P -2.218031  8.227721 -2.382941  1.220523   \n",
       "\n",
       "                                        1896      1897      1898      1899  \\\n",
       "aaMutations                                                                  \n",
       "                                    0.566051  1.272536  0.719894 -1.457669   \n",
       "SA108D                              0.537725  0.898869  1.317873 -1.442424   \n",
       "SA108D:SN144D:SI186V:SM231T:SL234P -0.325793  0.217425  1.653794 -0.368597   \n",
       "\n",
       "                                    brightness  \n",
       "aaMutations                                     \n",
       "                                      3.719212  \n",
       "SA108D                                1.301030  \n",
       "SA108D:SN144D:SI186V:SM231T:SL234P    1.301031  \n",
       "\n",
       "[3 rows x 1901 columns]"
      ]
     },
     "execution_count": 21,
     "metadata": {},
     "output_type": "execute_result"
    }
   ],
   "source": [
    "df = pd.DataFrame.from_dict(dict(zip(data['h_avg'].index, data['h_avg'].values))).T\n",
    "df['brightness'] = data[\"medianBrightness\"].values\n",
    "df.set_index(data['aaMutations'], inplace=True)\n",
    "df.head(3)"
   ]
  },
  {
   "cell_type": "code",
   "execution_count": 22,
   "metadata": {},
   "outputs": [],
   "source": [
    "df_bnry = df.copy()\n",
    "df_bnry[\"brightness\"] = (df[\"brightness\"] < 2.5).astype(int)"
   ]
  },
  {
   "cell_type": "code",
   "execution_count": 23,
   "metadata": {},
   "outputs": [],
   "source": [
    "X, y = df_bnry.shuffle().get_features_targets(target_column_names=['brightness'])"
   ]
  },
  {
   "cell_type": "code",
   "execution_count": 24,
   "metadata": {},
   "outputs": [
    {
     "name": "stdout",
     "output_type": "stream",
     "text": [
      "(51715, 1900) (51715, 1)\n"
     ]
    }
   ],
   "source": [
    "print(X.shape, y.shape)"
   ]
  },
  {
   "cell_type": "markdown",
   "metadata": {},
   "source": [
    "# Training and Testing"
   ]
  },
  {
   "cell_type": "code",
   "execution_count": 25,
   "metadata": {},
   "outputs": [],
   "source": [
    "from sklearn.linear_model import LogisticRegression\n",
    "from sklearn.model_selection import cross_val_score, ShuffleSplit, cross_val_predict, KFold"
   ]
  },
  {
   "cell_type": "markdown",
   "metadata": {},
   "source": [
    "### Logistic Regression on binary brightness"
   ]
  },
  {
   "cell_type": "code",
   "execution_count": 26,
   "metadata": {},
   "outputs": [],
   "source": [
    "logreg = LogisticRegression()"
   ]
  },
  {
   "cell_type": "code",
   "execution_count": 27,
   "metadata": {},
   "outputs": [
    {
     "name": "stderr",
     "output_type": "stream",
     "text": [
      "/Users/kummear1/anaconda/envs/genesis/lib/python3.7/site-packages/sklearn/linear_model/logistic.py:432: FutureWarning:\n",
      "\n",
      "Default solver will be changed to 'lbfgs' in 0.22. Specify a solver to silence this warning.\n",
      "\n",
      "/Users/kummear1/anaconda/envs/genesis/lib/python3.7/site-packages/sklearn/linear_model/logistic.py:432: FutureWarning:\n",
      "\n",
      "Default solver will be changed to 'lbfgs' in 0.22. Specify a solver to silence this warning.\n",
      "\n",
      "/Users/kummear1/anaconda/envs/genesis/lib/python3.7/site-packages/sklearn/svm/base.py:929: ConvergenceWarning:\n",
      "\n",
      "Liblinear failed to converge, increase the number of iterations.\n",
      "\n",
      "/Users/kummear1/anaconda/envs/genesis/lib/python3.7/site-packages/sklearn/linear_model/logistic.py:432: FutureWarning:\n",
      "\n",
      "Default solver will be changed to 'lbfgs' in 0.22. Specify a solver to silence this warning.\n",
      "\n",
      "/Users/kummear1/anaconda/envs/genesis/lib/python3.7/site-packages/sklearn/linear_model/logistic.py:432: FutureWarning:\n",
      "\n",
      "Default solver will be changed to 'lbfgs' in 0.22. Specify a solver to silence this warning.\n",
      "\n",
      "/Users/kummear1/anaconda/envs/genesis/lib/python3.7/site-packages/sklearn/svm/base.py:929: ConvergenceWarning:\n",
      "\n",
      "Liblinear failed to converge, increase the number of iterations.\n",
      "\n",
      "/Users/kummear1/anaconda/envs/genesis/lib/python3.7/site-packages/sklearn/linear_model/logistic.py:432: FutureWarning:\n",
      "\n",
      "Default solver will be changed to 'lbfgs' in 0.22. Specify a solver to silence this warning.\n",
      "\n",
      "/Users/kummear1/anaconda/envs/genesis/lib/python3.7/site-packages/sklearn/linear_model/logistic.py:432: FutureWarning:\n",
      "\n",
      "Default solver will be changed to 'lbfgs' in 0.22. Specify a solver to silence this warning.\n",
      "\n",
      "/Users/kummear1/anaconda/envs/genesis/lib/python3.7/site-packages/sklearn/linear_model/logistic.py:432: FutureWarning:\n",
      "\n",
      "Default solver will be changed to 'lbfgs' in 0.22. Specify a solver to silence this warning.\n",
      "\n",
      "/Users/kummear1/anaconda/envs/genesis/lib/python3.7/site-packages/sklearn/svm/base.py:929: ConvergenceWarning:\n",
      "\n",
      "Liblinear failed to converge, increase the number of iterations.\n",
      "\n",
      "/Users/kummear1/anaconda/envs/genesis/lib/python3.7/site-packages/sklearn/linear_model/logistic.py:432: FutureWarning:\n",
      "\n",
      "Default solver will be changed to 'lbfgs' in 0.22. Specify a solver to silence this warning.\n",
      "\n",
      "/Users/kummear1/anaconda/envs/genesis/lib/python3.7/site-packages/sklearn/linear_model/logistic.py:432: FutureWarning:\n",
      "\n",
      "Default solver will be changed to 'lbfgs' in 0.22. Specify a solver to silence this warning.\n",
      "\n",
      "/Users/kummear1/anaconda/envs/genesis/lib/python3.7/site-packages/sklearn/svm/base.py:929: ConvergenceWarning:\n",
      "\n",
      "Liblinear failed to converge, increase the number of iterations.\n",
      "\n",
      "/Users/kummear1/anaconda/envs/genesis/lib/python3.7/site-packages/sklearn/linear_model/logistic.py:432: FutureWarning:\n",
      "\n",
      "Default solver will be changed to 'lbfgs' in 0.22. Specify a solver to silence this warning.\n",
      "\n"
     ]
    }
   ],
   "source": [
    "# with paLogisticRegressionlel_backend(\"dask\"):\n",
    "cv = KFold(n_splits=5)\n",
    "scores = cross_val_score(logreg, X, y.values.ravel(), cv=cv, scoring='accuracy')\n",
    "preds = cross_val_predict(logreg, X, y.values.ravel(), cv=cv)"
   ]
  },
  {
   "cell_type": "code",
   "execution_count": 28,
   "metadata": {},
   "outputs": [
    {
     "data": {
      "text/plain": [
       "array([0.89519482, 0.89461472, 0.89490477, 0.89616166, 0.89316446])"
      ]
     },
     "execution_count": 28,
     "metadata": {},
     "output_type": "execute_result"
    }
   ],
   "source": [
    "scores"
   ]
  },
  {
   "cell_type": "code",
   "execution_count": 29,
   "metadata": {},
   "outputs": [
    {
     "data": {
      "text/plain": [
       "0.8948080827612879"
      ]
     },
     "execution_count": 29,
     "metadata": {},
     "output_type": "execute_result"
    }
   ],
   "source": [
    "scores.mean()"
   ]
  },
  {
   "cell_type": "code",
   "execution_count": 30,
   "metadata": {},
   "outputs": [],
   "source": [
    "from sklearn.metrics import confusion_matrix"
   ]
  },
  {
   "cell_type": "code",
   "execution_count": 31,
   "metadata": {},
   "outputs": [],
   "source": [
    "labels = [0, 1]\n",
    "cm = confusion_matrix(y, preds, labels)\n",
    "cm = cm.astype('float') / cm.sum(axis=1)[:, np.newaxis]"
   ]
  },
  {
   "cell_type": "code",
   "execution_count": 32,
   "metadata": {},
   "outputs": [
    {
     "data": {
      "text/plain": [
       "array([[0.93269518, 0.06730482],\n",
       "       [0.15789717, 0.84210283]])"
      ]
     },
     "execution_count": 32,
     "metadata": {},
     "output_type": "execute_result"
    }
   ],
   "source": [
    "cm"
   ]
  },
  {
   "cell_type": "code",
   "execution_count": 33,
   "metadata": {},
   "outputs": [],
   "source": [
    "classes = [\"Dark\", \"Bright\"]"
   ]
  },
  {
   "cell_type": "code",
   "execution_count": 35,
   "metadata": {},
   "outputs": [
    {
     "data": {
      "image/png": "[encoded data removed]",
      "text/plain": [
       "<Figure size 864x432 with 3 Axes>"
      ]
     },
     "metadata": {},
     "output_type": "display_data"
    }
   ],
   "source": [
    "fig, (ax1, ax2) = plt.subplots(figsize=(12, 6), nrows=1, ncols=2)\n",
    "\n",
    "sns.distplot(data[\"medianBrightness\"], ax=ax1)\n",
    "ax1.axvline(x=2.5, c=\"r\", ls=\"--\", lw=2)\n",
    "ax1.set(xlabel=\"median Brightness\", ylabel=\"value\")\n",
    "sns.despine()\n",
    "\n",
    "df_cm = pd.DataFrame(\n",
    "    cm, index=classes, columns=classes, \n",
    ")\n",
    "\n",
    "heatmap = sns.heatmap(df_cm, \n",
    "                      annot=True, \n",
    "                      fmt=\".2f\", \n",
    "                      cmap=\"Blues\",\n",
    "                      ax=ax2\n",
    "                     )\n",
    "\n",
    "ax2.set_yticklabels(heatmap.yaxis.get_ticklabels(), rotation=90, fontsize=14)\n",
    "ax2.set_xticklabels(heatmap.xaxis.get_ticklabels(), rotation=0, fontsize=14)\n",
    "ax2.set_ylabel('True label')\n",
    "ax2.set_xlabel('Predicted label')\n",
    "plt.savefig(\"figures/top_model.png\", bbox_inches='tight', dpi=200)"
   ]
  },
  {
   "cell_type": "code",
   "execution_count": null,
   "metadata": {},
   "outputs": [],
   "source": []
  }
 ],
 "metadata": {
  "kernelspec": {
   "display_name": "genesis",
   "language": "python",
   "name": "genesis"
  },
  "language_info": {
   "codemirror_mode": {
    "name": "ipython",
    "version": 3
   },
   "file_extension": ".py",
   "mimetype": "text/x-python",
   "name": "python",
   "nbconvert_exporter": "python",
   "pygments_lexer": "ipython3",
   "version": "3.7.7"
  }
 },
 "nbformat": 4,
 "nbformat_minor": 4
}
