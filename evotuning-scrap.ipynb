{
 "cells": [
  {
   "cell_type": "code",
   "execution_count": 1,
   "metadata": {},
   "outputs": [],
   "source": [
    "%load_ext autoreload\n",
    "%autoreload 2"
   ]
  },
  {
   "cell_type": "code",
   "execution_count": 1,
   "metadata": {},
   "outputs": [
    {
     "name": "stderr",
     "output_type": "stream",
     "text": [
      "/usr/local/Caskroom/miniconda/base/envs/jax-unirep/lib/python3.7/site-packages/jax/lib/xla_bridge.py:119: UserWarning: No GPU/TPU found, falling back to CPU.\n",
      "  warnings.warn('No GPU/TPU found, falling back to CPU.')\n"
     ]
    }
   ],
   "source": [
    "from jax_unirep.utils import get_embeddings\n",
    "from jax_unirep.params import add_dense_params\n",
    "from jax_unirep.layers import mlstm1900, dense\n",
    "from jax_unirep.activations import softmax, identity\n",
    "from jax_unirep.losses import neg_cross_entropy_loss\n",
    "from jax_unirep.utils import aa_seq_to_int, aa_to_int, load_params_1900\n",
    "\n",
    "\n",
    "import numpy as np\n",
    "\n",
    "\n",
    "from functools import partial\n",
    "from jax import grad, jit\n",
    "from jax.experimental.optimizers import adam\n",
    "from typing import List, Dict"
   ]
  },
  {
   "cell_type": "code",
   "execution_count": 2,
   "metadata": {},
   "outputs": [],
   "source": [
    "oh_arrs = np.eye(len(aa_to_int))\n",
    "one_hots = {aa_to_int[k]: oh_arrs[i] for i, k in enumerate(aa_to_int.keys())}"
   ]
  },
  {
   "cell_type": "code",
   "execution_count": 3,
   "metadata": {},
   "outputs": [
    {
     "name": "stdout",
     "output_type": "stream",
     "text": [
      "(3, 6, 10) (3, 6, 28)\n"
     ]
    }
   ],
   "source": [
    "sequences = [\n",
    "    \"HASTA\",\n",
    "    \"HASTH\",\n",
    "    \"VISTA\",\n",
    "]\n",
    "next_letters = [s[1:] for s in sequences]\n",
    "sequences_int = [aa_seq_to_int(s) for s in sequences]\n",
    "next_letters_int = [aa_seq_to_int(s) for s in next_letters]\n",
    "embeddings = np.load(\"jax_unirep/weights/1900_weights/UniRef50/embed_matrix:0.npy\")\n",
    "x = np.stack([embeddings[i] for i in sequences_int], axis=0)[:, :-1, :]\n",
    "y = []\n",
    "for seq in next_letters_int:\n",
    "    next_letter_arr = np.stack([one_hots[i] for i in seq])\n",
    "    y.append(next_letter_arr)\n",
    "y = np.stack(y)\n",
    "print(x.shape, y.shape)"
   ]
  },
  {
   "cell_type": "code",
   "execution_count": 4,
   "metadata": {},
   "outputs": [],
   "source": [
    "params = dict()\n",
    "params[\"mlstm1900\"] = load_params_1900()\n",
    "params = add_dense_params(params, \"dense\", 1900, 28)"
   ]
  },
  {
   "cell_type": "code",
   "execution_count": 6,
   "metadata": {},
   "outputs": [],
   "source": [
    "def predict(params, batch):\n",
    "    _, _, batch = mlstm1900(params[\"mlstm1900\"], batch)\n",
    "    batch = dense(params[\"dense\"], batch, activation=softmax)\n",
    "    return batch"
   ]
  },
  {
   "cell_type": "code",
   "execution_count": 107,
   "metadata": {},
   "outputs": [],
   "source": [
    "y_hat = predict(params, x)"
   ]
  },
  {
   "cell_type": "code",
   "execution_count": 106,
   "metadata": {},
   "outputs": [
    {
     "data": {
      "text/plain": [
       "DeviceArray(nan, dtype=float32)"
      ]
     },
     "execution_count": 106,
     "metadata": {},
     "output_type": "execute_result"
    }
   ],
   "source": [
    "loss(params=params, x=x, y=y)"
   ]
  },
  {
   "cell_type": "code",
   "execution_count": 109,
   "metadata": {},
   "outputs": [
    {
     "name": "stderr",
     "output_type": "stream",
     "text": [
      "/usr/local/Caskroom/miniconda/base/envs/jax-unirep/lib/python3.7/site-packages/ipykernel_launcher.py:1: RuntimeWarning: invalid value encountered in log\n",
      "  \"\"\"Entry point for launching an IPython kernel.\n"
     ]
    }
   ],
   "source": [
    "xent = -(y * np.log(y_hat + 1E-10) + (1 - y) * np.log((1 - y_hat) + 1E-10))\n",
    "# np.mean(xent)"
   ]
  },
  {
   "cell_type": "code",
   "execution_count": null,
   "metadata": {},
   "outputs": [],
   "source": [
    "params"
   ]
  },
  {
   "cell_type": "code",
   "execution_count": 7,
   "metadata": {},
   "outputs": [
    {
     "name": "stdout",
     "output_type": "stream",
     "text": [
      "0\n",
      "iteration: 0, loss: 0.08237417042255402\n",
      "1\n",
      "iteration: 1, loss: 0.04163924977183342\n",
      "2\n",
      "iteration: 2, loss: 0.054564714431762695\n",
      "3\n",
      "iteration: 3, loss: 0.022856971248984337\n",
      "4\n",
      "iteration: 4, loss: 0.01080869697034359\n",
      "5\n"
     ]
    }
   ],
   "source": [
    "loss = partial(neg_cross_entropy_loss, model=predict)\n",
    "dloss = jit(grad(loss))\n",
    "\n",
    "init, update, get_params = adam(step_size=0.005)\n",
    "\n",
    "state = init(params)\n",
    "\n",
    "for i in range(20):\n",
    "    print(i)\n",
    "    g = dloss(params, x=x, y=y)\n",
    "\n",
    "    state = update(i, g, state)\n",
    "    params = get_params(state)\n",
    "\n",
    "#     if i % 10 == 0:\n",
    "    l = loss(params, x=x, y=y)\n",
    "    if np.isnan(l):\n",
    "        break\n",
    "    print(f\"iteration: {i}, loss: {l}\")\n",
    "# def update(params, x, y):\n",
    "\n",
    "# prepare the sequences\n",
    "# batch sequences according to length"
   ]
  },
  {
   "cell_type": "code",
   "execution_count": null,
   "metadata": {},
   "outputs": [],
   "source": [
    "params[\"dense\"][\"b\"].shape"
   ]
  },
  {
   "cell_type": "code",
   "execution_count": 36,
   "metadata": {},
   "outputs": [
    {
     "data": {
      "text/plain": [
       "(3, 239, 1900)"
      ]
     },
     "execution_count": 36,
     "metadata": {},
     "output_type": "execute_result"
    }
   ],
   "source": [
    "batch.shape"
   ]
  },
  {
   "cell_type": "code",
   "execution_count": 37,
   "metadata": {},
   "outputs": [],
   "source": [
    "def softmax_noaxis(x):\n",
    "    print(x.shape)\n",
    "    return np.exp(x) / np.sum(np.exp(x))\n",
    "\n",
    "def softmax_newaxis(x):\n",
    "    e = np.exp(batch)\n",
    "    return np.divide(e, np.sum(e, axis=-1)[:, :, None])"
   ]
  },
  {
   "cell_type": "code",
   "execution_count": 39,
   "metadata": {},
   "outputs": [
    {
     "name": "stdout",
     "output_type": "stream",
     "text": [
      "(3, 239, 28)\n"
     ]
    }
   ],
   "source": [
    "_, _, batch = mlstm1900(params[\"mlstm1900\"], x)\n",
    "batch = dense(params[\"dense\"], batch, activation=identity)\n",
    "\n",
    "sfm_noaxis = softmax_noaxis(batch)\n",
    "sfm_newaxis = softmax_newaxis(batch)"
   ]
  },
  {
   "cell_type": "code",
   "execution_count": null,
   "metadata": {},
   "outputs": [],
   "source": [
    "original = np.exp() / np.sum(np.exp(x))"
   ]
  },
  {
   "cell_type": "code",
   "execution_count": 32,
   "metadata": {},
   "outputs": [
    {
     "data": {
      "text/plain": [
       "(3, 239, 28)"
      ]
     },
     "execution_count": 32,
     "metadata": {},
     "output_type": "execute_result"
    }
   ],
   "source": [
    "batch.shape"
   ]
  },
  {
   "cell_type": "code",
   "execution_count": null,
   "metadata": {},
   "outputs": [],
   "source": []
  },
  {
   "cell_type": "code",
   "execution_count": null,
   "metadata": {},
   "outputs": [],
   "source": []
  }
 ],
 "metadata": {
  "kernelspec": {
   "display_name": "jax-unirep",
   "language": "python",
   "name": "jax-unirep"
  },
  "language_info": {
   "codemirror_mode": {
    "name": "ipython",
    "version": 3
   },
   "file_extension": ".py",
   "mimetype": "text/x-python",
   "name": "python",
   "nbconvert_exporter": "python",
   "pygments_lexer": "ipython3",
   "version": "3.7.6"
  }
 },
 "nbformat": 4,
 "nbformat_minor": 4
}
